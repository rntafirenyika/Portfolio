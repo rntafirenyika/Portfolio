{
 "cells": [
  {
   "cell_type": "code",
   "execution_count": null,
   "metadata": {},
   "outputs": [],
   "source": [
    "#INF1511 UNIT 7 file handling\n",
    "#storing data - use variables if temporary, use files if permanent ... and then INF2611 Databases\n",
    "# must name the file\n",
    "# must indicate reading from or writing to a file  # NBNBNB writing modes!!!\n",
    "# What you OPEN you must CLOSE"
   ]
  },
  {
   "cell_type": "code",
   "execution_count": 1,
   "metadata": {},
   "outputs": [
    {
     "name": "stdout",
     "output_type": "stream",
     "text": [
      "\n",
      "\n",
      "Python is a great language\n"
     ]
    }
   ],
   "source": [
    "myLine = 'Python is a great language'\n",
    "#open the file\n",
    "myFile='testfile2022.txt'\n",
    "f = open(myFile, 'w')\n",
    "#write or read\n",
    "f.write('\\n%s' %myLine)\n",
    "#close the file\n",
    "f.close()\n",
    "#open the file\n",
    "f = open(myFile) \n",
    "#read the file\n",
    "while True:\n",
    "    line = f.readline()\n",
    "    if len(line) == 0:\n",
    "        break\n",
    "    print (line,) \n",
    "#close the file    \n",
    "f.close()"
   ]
  },
  {
   "cell_type": "code",
   "execution_count": 3,
   "metadata": {},
   "outputs": [
    {
     "name": "stdout",
     "output_type": "stream",
     "text": [
      "Python is a great language\n",
      "Python is easy to learn\n"
     ]
    }
   ],
   "source": [
    "myLines = ['Python is a great language', 'Python is easy to learn']\n",
    "#open the file\n",
    "myFile='testfile2022.txt'\n",
    "with open(myFile, 'w') as file:\n",
    "    for line in myLines:\n",
    "        file.write(line + '\\n')\n",
    "        \n",
    "with open(myFile, 'r') as file:\n",
    "    for line in file:\n",
    "        print(line.rstrip())"
   ]
  },
  {
   "cell_type": "code",
   "execution_count": 2,
   "metadata": {},
   "outputs": [
    {
     "name": "stdout",
     "output_type": "stream",
     "text": [
      "\n",
      "\n",
      "Python is a great language \n",
      "\n",
      "Python is easy to learn\n"
     ]
    }
   ],
   "source": [
    "#to enter two entries into a file\n",
    "myLine1 = 'Python is a great language '\n",
    "myLine2 = 'Python is easy to learn'\n",
    "#open the file\n",
    "myFile='testfile.txt'\n",
    "f = open(myFile, 'w')\n",
    "#write or read\n",
    "f.write('\\n%s' %myLine1)\n",
    "f.write('\\n%s' %myLine2)\n",
    "#close the file\n",
    "f.close()\n",
    "\n",
    "#open the file\n",
    "f = open(myFile) \n",
    "#read the file\n",
    "while True:\n",
    "    line = f.readline()\n",
    "    if len(line) == 0:\n",
    "        break\n",
    "    print (line,) \n",
    "#close the file    \n",
    "f.close()"
   ]
  },
  {
   "cell_type": "code",
   "execution_count": 6,
   "metadata": {},
   "outputs": [
    {
     "name": "stdout",
     "output_type": "stream",
     "text": [
      "Python is a great language \n",
      "\n",
      "Python is easy to learn\n",
      "\n"
     ]
    }
   ],
   "source": [
    "#to enter two entries into a file\n",
    "myLine1 = 'Python is a great language '\n",
    "myLine2 = 'Python is easy to learn'\n",
    "#open the file\n",
    "myFile='testfile.txt'\n",
    "f = open(myFile, 'w')\n",
    "#write or read\n",
    "f.write(f'{myLine1}\\n')\n",
    "f.write(f'{myLine2}\\n')\n",
    "#close the file\n",
    "f.close()\n",
    "\n",
    "#open the file\n",
    "f = open(myFile) \n",
    "#read the file\n",
    "while True:\n",
    "    line = f.readline()\n",
    "    if len(line) == 0:\n",
    "        break\n",
    "    print (line,) \n",
    "#close the file    \n",
    "f.close()"
   ]
  },
  {
   "cell_type": "code",
   "execution_count": 8,
   "metadata": {},
   "outputs": [
    {
     "name": "stdout",
     "output_type": "stream",
     "text": [
      "How many lines do you want to enter? 3\n",
      "\n",
      " Enter a line : This is line 1\n",
      "\n",
      " Writing line  1\n",
      "\n",
      " Enter a line : This is line 2\n",
      "\n",
      " Writing line  2\n",
      "\n",
      " Enter a line : This is line 3\n",
      "\n",
      " Writing line  3\n",
      "\n",
      "\n",
      "This is line 1\n",
      "\n",
      "This is line 2\n",
      "\n",
      "This is line 3\n"
     ]
    }
   ],
   "source": [
    "#to enter multiple entries into a file\n",
    "nLines=int(input('How many lines do you want to enter? '))\n",
    "myLine= ''\n",
    "#open the file\n",
    "myFile='testfile.txt'\n",
    "f = open(myFile, 'w')\n",
    "#write or read\n",
    "for nLine in range(0, nLines):\n",
    "    myLine=input('\\n Enter a line : ')\n",
    "    f.write(\"\\n%s\" %myLine)\n",
    "    print('\\n Writing line ',nLine + 1)\n",
    "#close the file\n",
    "f.close()\n",
    "\n",
    "#open the file\n",
    "f = open(myFile) \n",
    "#read the file\n",
    "while True:\n",
    "    line = f.readline()\n",
    "    if len(line) == 0:\n",
    "        break\n",
    "    print (line,) \n",
    "#close the file    \n",
    "f.close()"
   ]
  },
  {
   "cell_type": "code",
   "execution_count": 9,
   "metadata": {},
   "outputs": [
    {
     "name": "stdout",
     "output_type": "stream",
     "text": [
      "\n",
      "This is line 1\n",
      "This is line 2\n",
      "This is line 3\n"
     ]
    }
   ],
   "source": [
    "#read a whole file\n",
    "myFile='testfile.txt'\n",
    "f = open(myFile, 'r')\n",
    "lines = f.read()\n",
    "print (lines)\n",
    "f.close() "
   ]
  },
  {
   "cell_type": "code",
   "execution_count": 10,
   "metadata": {},
   "outputs": [
    {
     "name": "stdout",
     "output_type": "stream",
     "text": [
      "Is the file testfile.txt closed?  False\n",
      "The name of the file is :  testfile.txt\n",
      "What is the opening mode of file testfile.txt :  r\n",
      "The file number descriptor is :  4\n",
      "Is the file testfile.txt closed?  True\n"
     ]
    }
   ],
   "source": [
    "#to determine the attributes of a file\n",
    "myFile='testfile.txt'\n",
    "f = open(myFile, 'r')\n",
    "print ('Is the file '+ myFile + ' closed? ', f.closed)\n",
    "print ('The name of the file is : ', f.name)\n",
    "print ('What is the opening mode of file ' + myFile + ' : ', f.mode)\n",
    "print ('The file number descriptor is : ', f.fileno())\n",
    "f.close() \n",
    "print ('Is the file '+ myFile + ' closed? ', f.closed)"
   ]
  },
  {
   "cell_type": "code",
   "execution_count": null,
   "metadata": {},
   "outputs": [],
   "source": [
    "#BUT if the file does not exist ... there will be an error!\n",
    "#NBNBNB Try/except and try/finally constructs!!!!!!!!!!!!!!!!!!!!!!!!!!!\n",
    "import sys\n",
    "myFile=input('What is the name of the file : ')\n",
    "try:\n",
    "    f = open(myFile, 'r')\n",
    "    #read the entire file\n",
    "    lines = f.read()\n",
    "except IOError:     \n",
    "    print ('The file does not exist ', myFile)\n",
    "    sys.exit(1)\n",
    "f.close()\n",
    "print (lines)\n",
    "    \n",
    "#alternatives for output\n",
    "print('\\n The content of the file is : ')\n",
    "print('\\n Option 1 :')\n",
    "print (lines)\n",
    "\n",
    "print('\\n Option 2 : ') \n",
    "for line in lines:\n",
    "    sys.stdout.write(line) \n",
    "    \n",
    "print('\\n Option 3 : ')\n",
    "for i in range(0, len(lines)):\n",
    "    sys.stdout.write(lines[i]) "
   ]
  },
  {
   "cell_type": "code",
   "execution_count": null,
   "metadata": {},
   "outputs": [],
   "source": [
    "#and to add (append) to the file\n",
    "nCount=int(input('How may lines do you wish to append? '))\n",
    "#open the file to APPEND to the file\n",
    "myFile='testfile.txt'\n",
    "f = open(myFile, 'a' )\n",
    "for i in range(0, nCount):\n",
    "    myLine=input('Enter the line to add : ')\n",
    "    f.write(\"\\n%s\" %myLine)\n",
    "f.close()\n",
    "\n",
    "f = open(myFile, 'r' )\n",
    "lines = f.readlines()\n",
    "f.close()\n",
    "\n",
    "print('The contents in the file ' + myFile + ' are :')\n",
    "for line in lines:\n",
    "    sys.stdout.write(line)"
   ]
  },
  {
   "cell_type": "code",
   "execution_count": 6,
   "metadata": {},
   "outputs": [
    {
     "name": "stdout",
     "output_type": "stream",
     "text": [
      "The copy of the file nextfile.txt contains : \n",
      "\n",
      "aaaa\n",
      "bb\n",
      "ccc\n",
      "dd\n"
     ]
    }
   ],
   "source": [
    "#read from one file and copy to another\n",
    "myFile='testfile.txt'\n",
    "f = open(myFile, 'r')\n",
    "lines = f.read() \n",
    "f.close() \n",
    "\n",
    "#and then write to another file\n",
    "newFile='nextfile.txt'\n",
    "g = open(newFile, 'w' )\n",
    "g.write(lines)\n",
    "g.close() \n",
    "\n",
    "#just checking ....\n",
    "print('The copy of the file '+ newFile + ' contains : ') \n",
    "g = open(newFile, 'r' ) \n",
    "lines = g.read()\n",
    "print (lines)\n",
    "g.close() "
   ]
  },
  {
   "cell_type": "code",
   "execution_count": null,
   "metadata": {},
   "outputs": [],
   "source": [
    "#deleting lines from a file\n",
    "import sys\n",
    "myFile='testfile.txt'\n",
    "f = open(myFile, 'r' )\n",
    "lines = f.readlines()\n",
    "print('\\n Original content of the file:')\n",
    "for line in lines:\n",
    "    sys.stdout.write(line)\n",
    "f.close()\n",
    "\n",
    "\n",
    "#Now to delete a single line from the file\n",
    "nDel=int(input('\\n Which line do you wish to delete ? '))\n",
    "#???? need to check what is the maximim numnber of lines?? HOW??\n",
    "#FOR YOU TO DO\n",
    "print('\\n You will be deleting : ', lines[nDel-1])\n",
    "del lines[nDel-1] \n",
    "#open the file again to WRITE OVER the content!\n",
    "f = open(myFile, 'w' )\n",
    "f.writelines(lines)\n",
    "f.close()\n",
    "\n",
    "print('\\n The content of the file ' + myFile + ' after deletion of line ',nDel)\n",
    "f = open(myFile, 'r' )\n",
    "lines = f.read()\n",
    "print (lines)\n",
    "f.close() "
   ]
  },
  {
   "cell_type": "code",
   "execution_count": null,
   "metadata": {},
   "outputs": [],
   "source": [
    "#MODIFY CONTENT modifying the file content\n",
    "import sys \n",
    "myFile='testfile.txt'\n",
    "#myFile=input('Enter the name of the file : ')\n",
    "#open the file to READ\n",
    "f = open(myFile, 'r')\n",
    "lines = f.readlines()\n",
    "print('\\n Original content of the file : ', myFile)\n",
    "for line in lines:\n",
    "    sys.stdout.write(line)       \n",
    "f.close()\n",
    "\n",
    "\n",
    "nLine=int(input (\"\\n\\n Enter the line number that you wish to change: \"))\n",
    "if (nLine <=len(lines)):\n",
    "    newLine=input('\\n Please enter the new content: ')\n",
    "    lines[nLine-1]= newLine + \"\\n\"\n",
    "                  \n",
    "    f = open(myFile, 'w' )\n",
    "    f.writelines(lines)\n",
    "    f.close()\n",
    "                  \n",
    "    print('\\n The content of ' + myFile +' after updating line' , nLine)\n",
    "    f = open(myFile, 'r' )\n",
    "    lines = f.read()\n",
    "    print (lines)\n",
    "    f.close()\n",
    "else:     \n",
    "    print ('\\n Unfortunately the line number ', nLine, ' exceeds the current file limit!' )\n",
    "    "
   ]
  },
  {
   "cell_type": "code",
   "execution_count": 7,
   "metadata": {},
   "outputs": [
    {
     "name": "stdout",
     "output_type": "stream",
     "text": [
      "Enter the name of your file : testnum2022\n",
      "How many numbers? 4\n",
      "Enter 4 numbers\n",
      "12\n",
      "13\n",
      "14\n",
      "15\n",
      "The numbers stored in the file are\n",
      "12\n",
      "13\n",
      "14\n",
      "15\n",
      "The numbers in the file multiplied by 2\n",
      "24\n",
      "26\n",
      "28\n",
      "30\n",
      "The numbers stored in the file are unchanged : \n",
      "12\n",
      "13\n",
      "14\n",
      "15\n"
     ]
    }
   ],
   "source": [
    "#and numbers in a file?\n",
    "myFile=input('Enter the name of your file : ')\n",
    "f=open(myFile, 'w' )\n",
    "n=int(input('How many numbers? ' )) \n",
    "print('Enter', n, 'numbers' )\n",
    "for i in range(0,n):\n",
    "    m=input()\n",
    "    f.write(\"%s\\n\" %m)\n",
    "f.close()\n",
    "\n",
    "f = open(myFile)\n",
    "lines = f.readlines()\n",
    "f.close()\n",
    "\n",
    "print('The numbers stored in the file are') \n",
    "for line in lines:\n",
    "    print (int(line),) \n",
    "print('The numbers in the file multiplied by 2') \n",
    "for line in lines:\n",
    "    print (int(line)*2,)\n",
    "    \n",
    "#however, you did not yet WRITE the multiplied numbers to the file ... check\n",
    "f = open(myFile)\n",
    "lines = f.readlines()\n",
    "f.close()\n",
    "print('The numbers stored in the file are unchanged : ') \n",
    "for line in lines:\n",
    "    print (int(line),) \n"
   ]
  },
  {
   "cell_type": "code",
   "execution_count": null,
   "metadata": {},
   "outputs": [],
   "source": [
    "#pickling understand the theory FOR ENRICHMENT"
   ]
  },
  {
   "cell_type": "code",
   "execution_count": null,
   "metadata": {},
   "outputs": [],
   "source": [
    "#try/except  to determine whether or not a file exists ERROR HANDLING \n",
    "myFile=input('Enter the name of the file : ')\n",
    "import sys\n",
    "try:\n",
    "    f = open(myFile, 'r')\n",
    "    lines = f.read()\n",
    "    print ('The file ' + myFile + ' does exist')\n",
    "    print('The content of the file ' + myFile + ' is :')\n",
    "    print (lines)\n",
    "except IOError:\n",
    "    print ('The file ' + myFile + ' does not exist')\n",
    "    sys.exit(1) \n",
    "f.close() \n"
   ]
  },
  {
   "cell_type": "code",
   "execution_count": null,
   "metadata": {},
   "outputs": [],
   "source": [
    "#try/finally Also to determine whether or not the file exists, but the finally part is executed ERROR HANDLING \n",
    "import sys\n",
    "myFile=input('Enter the name of the file : ')\n",
    "try:\n",
    "    f = open(myFile, 'r')\n",
    "    try:\n",
    "        lines = f.read()\n",
    "    finally:\n",
    "        f.close() \n",
    "except IOError:\n",
    "    print ('The file ' + myFile + ' does not exist')\n",
    "    sys.exit(1) \n",
    "\n",
    "print('The content of the file ' + myFile + ' is :')\n",
    "print(lines)"
   ]
  },
  {
   "cell_type": "code",
   "execution_count": null,
   "metadata": {},
   "outputs": [],
   "source": [
    "myLine = 'Python is a great language'\n",
    "#open the file\n",
    "myFile='testfile.txt'\n",
    "f = open(myFile, 'w')\n",
    "#write or read\n",
    "f.write('\\n%s' %myLine)\n",
    "#close the file\n",
    "f.close()\n",
    "#open the file\n",
    "f = open(myFile)\n",
    "#read the file\n",
    "while True:\n",
    "    line = f.readline()\n",
    "    if len(line) == 0:\n",
    "        break\n",
    "    print (line,)\n",
    "#close the file\n",
    "f.close()"
   ]
  },
  {
   "cell_type": "code",
   "execution_count": null,
   "metadata": {},
   "outputs": [],
   "source": []
  }
 ],
 "metadata": {
  "kernelspec": {
   "display_name": "Python 3 (ipykernel)",
   "language": "python",
   "name": "python3"
  },
  "language_info": {
   "codemirror_mode": {
    "name": "ipython",
    "version": 3
   },
   "file_extension": ".py",
   "mimetype": "text/x-python",
   "name": "python",
   "nbconvert_exporter": "python",
   "pygments_lexer": "ipython3",
   "version": "3.9.13"
  }
 },
 "nbformat": 4,
 "nbformat_minor": 2
}
