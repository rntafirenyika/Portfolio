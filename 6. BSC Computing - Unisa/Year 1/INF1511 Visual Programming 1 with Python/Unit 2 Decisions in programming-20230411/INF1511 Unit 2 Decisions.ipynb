{
 "cells": [
  {
   "cell_type": "markdown",
   "metadata": {},
   "source": [
    "# Unit 2 Decisions in Programming \n",
    "# IF\n",
    "# check for equality and inequality, multiple conditions (AND OR)\n",
    "#if statements: if condition_test:\n",
    "#do something\n",
    "#if-else statements: if condition_test:\n",
    "#do something\n",
    "#else allows you to define code to execute if condition_test is false\n",
    "#if-elif-else allow multiple conditions (only one path is executed)"
   ]
  },
  {
   "cell_type": "code",
   "execution_count": null,
   "metadata": {},
   "outputs": [],
   "source": [
    "#input\n",
    "year_now=int(input('In which year are we now? '))\n",
    "#process\n",
    "if (year_now == 2023):\n",
    "    #output\n",
    "    print('Welcome to the present ... 2023')\n",
    "else:\n",
    "    print('This is not this year!')  \n",
    "#contine exec here"
   ]
  },
  {
   "cell_type": "code",
   "execution_count": null,
   "metadata": {},
   "outputs": [],
   "source": [
    "#input\n",
    "your_age=int(input('What is your age today? '))\n",
    "#process\n",
    "if (your_age >= 18):\n",
    "    #output\n",
    "    print('You are eligible to vote')\n",
    "else:\n",
    "    print('You are not eligible to vote')"
   ]
  },
  {
   "cell_type": "code",
   "execution_count": null,
   "metadata": {},
   "outputs": [],
   "source": [
    "#input (integer or float)\n",
    "today_temp=int(input('Please input maximum temperature for today : '))\n",
    "#process\n",
    "if (today_temp >= 40):\n",
    "    #output\n",
    "    print('Today will be very hot')\n",
    "else:\n",
    "    print('Today will not be very hot')"
   ]
  },
  {
   "cell_type": "code",
   "execution_count": null,
   "metadata": {},
   "outputs": [],
   "source": []
  },
  {
   "cell_type": "code",
   "execution_count": null,
   "metadata": {},
   "outputs": [],
   "source": []
  },
  {
   "cell_type": "code",
   "execution_count": 2,
   "metadata": {},
   "outputs": [
    {
     "name": "stdout",
     "output_type": "stream",
     "text": [
      "Please input the weather : sunny\n",
      "Umbrella not required\n"
     ]
    }
   ],
   "source": [
    "#input\n",
    "the_weather=input('Please input the weather : ')\n",
    "#process\n",
    "if (the_weather == 'rain'):\n",
    "    #output\n",
    "    print('Please use an umbrella')\n",
    "else:\n",
    "    print('Umbrella not required')"
   ]
  },
  {
   "cell_type": "code",
   "execution_count": null,
   "metadata": {},
   "outputs": [],
   "source": [
    "myAge=int(input('What is your age? '))\n",
    "if myAge >= 18:\n",
    "    print('You are an adult')\n",
    "else:\n",
    "    print('You are not an adult')"
   ]
  },
  {
   "cell_type": "code",
   "execution_count": 6,
   "metadata": {},
   "outputs": [
    {
     "name": "stdout",
     "output_type": "stream",
     "text": [
      "What is your age?20\n",
      " You are a teenager\n"
     ]
    }
   ],
   "source": [
    "# ensure that the entire range is covered\n",
    "myAge=int(input('What is your age?'))\n",
    "if myAge >= 21:\n",
    "    print('You are an adult')\n",
    "elif 13 < myAge < 21:\n",
    "    print(' You are a teenager')\n",
    "else:\n",
    "    print('You are neither a teenager nor an adult')"
   ]
  },
  {
   "cell_type": "code",
   "execution_count": null,
   "metadata": {},
   "outputs": [],
   "source": [
    "# ensure that the entire range is covered multiple AND ORs\n",
    "#WARNING>>>>>>>>>>>>>>>>>>>>>>>>>>>>>>>>>>>>>>>>>>>>>>>>>>>>>>>>>>>>>>>>>>>\n",
    "\n",
    "myAge=int(input('What is your age?  '))\n",
    "myCoffee=input('Do you drink coffee? (Y/N) ')\n",
    "\n",
    "if myCoffee.upper() =='Y':\n",
    "    drinkCoffee = True\n",
    "else:\n",
    "    drinkCoffee = False    \n",
    "    \n",
    "if drinkCoffee:\n",
    "    if (myAge > 21):\n",
    "        print('Adult coffee drinker')\n",
    "    else:\n",
    "        print('Non-adult coffee drinker')\n",
    "else:\n",
    "    if (myAge > 21):\n",
    "        print('Adult non coffee drinker')\n",
    "    else:\n",
    "        print('neither adult nor coffee drinker')       \n"
   ]
  },
  {
   "cell_type": "code",
   "execution_count": 11,
   "metadata": {},
   "outputs": [
    {
     "name": "stdout",
     "output_type": "stream",
     "text": [
      "Input your integer number :101\n",
      "Correct well done!\n"
     ]
    }
   ],
   "source": [
    "#Guess a number\n",
    "nMyNumber = 101\n",
    "nYourNumber = int(input('Input your integer number :'))\n",
    "if nMyNumber ==nYourNumber:\n",
    "    print('Correct well done!')\n",
    "else:\n",
    "    print('Sorry try again!')"
   ]
  },
  {
   "cell_type": "code",
   "execution_count": null,
   "metadata": {},
   "outputs": [],
   "source": []
  },
  {
   "cell_type": "code",
   "execution_count": null,
   "metadata": {},
   "outputs": [],
   "source": []
  },
  {
   "cell_type": "markdown",
   "metadata": {},
   "source": [
    "# introducing lists ... "
   ]
  },
  {
   "cell_type": "code",
   "execution_count": null,
   "metadata": {},
   "outputs": [],
   "source": [
    "myClass=['henry', 'jane', 'mary', 'sibu', 'kabelo', 'dineo', 'andzani']\n",
    "myName = input('What is your name? ')\n",
    "if myName not in myClass:\n",
    "    print('Sorry, your name does not appear on the class list!')\n",
    "else:\n",
    "    print('welcome to another class meeting.  The session shall start shortly ... \\n')"
   ]
  },
  {
   "cell_type": "code",
   "execution_count": null,
   "metadata": {},
   "outputs": [],
   "source": [
    "myClass=['henry', 'jane', 'tyron', 'sibu', 'kabelo', 'dineo', 'andzani']\n",
    "myName = input('What is your name? ')\n",
    "if myName not in myClass:\n",
    "    print('Sorry %s, your name does not appear on the class list!' %(myName.title()))\n",
    "else:\n",
    "    print('Hello %s, and welcome to another class meeting.  The session shall start shortly ... '  %(myName.title()))"
   ]
  },
  {
   "cell_type": "code",
   "execution_count": 12,
   "metadata": {},
   "outputs": [
    {
     "name": "stdout",
     "output_type": "stream",
     "text": [
      "TRUE\n"
     ]
    }
   ],
   "source": [
    "myPet = 'Kit'\n",
    "yourPet = 'Cat'\n",
    "if (len(myPet) == len(yourPet)):\n",
    "    print('TRUE')\n",
    "else:\n",
    "    print('FALSE')"
   ]
  },
  {
   "cell_type": "markdown",
   "metadata": {},
   "source": [
    "## Problem. Calculate the cost of a ticket  for a lecture on The AmaZing World of Python.  \n",
    "##The cost depends on your age.  Anyone younger than 12 is free, younger than 21 is R25.60, between 21 and 65 is R46.75, and 65 and older is free."
   ]
  },
  {
   "cell_type": "code",
   "execution_count": 22,
   "metadata": {},
   "outputs": [
    {
     "name": "stdout",
     "output_type": "stream",
     "text": [
      "What is your age? 21\n",
      "Cost: R46.75\n"
     ]
    }
   ],
   "source": [
    "#add your code here\n",
    "age = int(input(\"What is your age? \"))\n",
    "\n",
    "if age < 12 or age >= 65:\n",
    "    print(\"Cost: free\")\n",
    "elif 12 <= age < 21:\n",
    "    print(\"Cost: R25.60\")\n",
    "elif 21 <= age < 65:\n",
    "    print(\"Cost: R46.75\")"
   ]
  },
  {
   "cell_type": "markdown",
   "metadata": {},
   "source": [
    "##### Problem. Write a Python program that uses an IF statement. The program must prompt the user for the rainfall (in mm) today.  The input value must determine and output a message to the user. If less than 15mm, then 'Very dry day', and more than 100mm then 'Very wet day', else 'Not dry and not wet day'."
   ]
  },
  {
   "cell_type": "code",
   "execution_count": 27,
   "metadata": {},
   "outputs": [
    {
     "name": "stdout",
     "output_type": "stream",
     "text": [
      "Rainfall in mm: 101\n",
      "Very wet day\n"
     ]
    }
   ],
   "source": [
    "#add you code here\n",
    "rainfall = int(input(\"Rainfall in mm: \"))\n",
    "\n",
    "if rainfall < 15:\n",
    "    print(\"Very dry day\")\n",
    "elif rainfall > 100:\n",
    "    print(\"Very wet day\")\n",
    "else:\n",
    "    print(\"Not dry and not wet day\")\n"
   ]
  },
  {
   "cell_type": "code",
   "execution_count": 29,
   "metadata": {},
   "outputs": [],
   "source": [
    "#input\n",
    "theWeather='Rain'\n",
    "#process\n",
    "if (theWeather == 'rain'):   \n",
    "    #output\n",
    "    print('Please use an umbrella')\n"
   ]
  },
  {
   "cell_type": "code",
   "execution_count": 30,
   "metadata": {},
   "outputs": [
    {
     "name": "stdout",
     "output_type": "stream",
     "text": [
      "Please input your temperature reading : 38\n",
      "Please go for a COVID TEST NOW!\n"
     ]
    }
   ],
   "source": [
    "#input\n",
    "nTemp=int(input('Please input your temperature reading : '))\n",
    "#process\n",
    "if (nTemp >= 37):\n",
    "    #output   \n",
    "    print('Please go for a COVID TEST NOW!')"
   ]
  },
  {
   "cell_type": "code",
   "execution_count": 31,
   "metadata": {},
   "outputs": [
    {
     "ename": "SyntaxError",
     "evalue": "invalid syntax (1584273402.py, line 4)",
     "output_type": "error",
     "traceback": [
      "\u001b[1;36m  File \u001b[1;32m\"C:\\Users\\Tafirenyikas\\AppData\\Local\\Temp\\ipykernel_10704\\1584273402.py\"\u001b[1;36m, line \u001b[1;32m4\u001b[0m\n\u001b[1;33m    if nMyNumber = nYourNumber:\u001b[0m\n\u001b[1;37m                 ^\u001b[0m\n\u001b[1;31mSyntaxError\u001b[0m\u001b[1;31m:\u001b[0m invalid syntax\n"
     ]
    }
   ],
   "source": [
    "#Guess a number\n",
    "nMyNumber = 37\n",
    "nYourNumber = int(input('Input your integer number :'))\n",
    "if nMyNumber = nYourNumber: \n",
    "   print('Correct well done!')\n",
    "else: \n",
    "   print('Sorry try again!'"
   ]
  },
  {
   "cell_type": "code",
   "execution_count": 32,
   "metadata": {},
   "outputs": [
    {
     "name": "stdout",
     "output_type": "stream",
     "text": [
      "Please input your temperature reading : 37\n",
      "Please go for a COVID TEST NOW!\n"
     ]
    }
   ],
   "source": [
    "#input\n",
    "nTemp=int(input('Please input your temperature reading : '))\n",
    "#process\n",
    "if (nTemp >= 37):   \n",
    "    #output\n",
    "    print('Please go for a COVID TEST NOW!')\n",
    "else:   \n",
    "    print('all OK, have a HAPPY day!')"
   ]
  },
  {
   "cell_type": "code",
   "execution_count": 33,
   "metadata": {},
   "outputs": [],
   "source": [
    "#input\n",
    "nTemp=34\n",
    "#process\n",
    "if (nTemp >= 37.9):\n",
    "#output   \n",
    "    print('Please go for a COVID TEST NOW!')"
   ]
  },
  {
   "cell_type": "code",
   "execution_count": 34,
   "metadata": {},
   "outputs": [
    {
     "name": "stdout",
     "output_type": "stream",
     "text": [
      "What is your name? Luke\n",
      "Sorry,  Luke you are not on the team!\n"
     ]
    }
   ],
   "source": [
    "myTeam=['Matthew', 'Mark', 'Luke', 'John']\n",
    "myName = input('What is your name? ')\n",
    "if myName.lower() in myTeam:\n",
    "    print('welcome ' + myName+ ' you are on the team')\n",
    "else:\n",
    "    print('Sorry,  ' + myName+ ' you are not on the team!')"
   ]
  },
  {
   "cell_type": "code",
   "execution_count": 35,
   "metadata": {},
   "outputs": [
    {
     "ename": "SyntaxError",
     "evalue": "invalid syntax (1383544278.py, line 4)",
     "output_type": "error",
     "traceback": [
      "\u001b[1;36m  File \u001b[1;32m\"C:\\Users\\Tafirenyikas\\AppData\\Local\\Temp\\ipykernel_10704\\1383544278.py\"\u001b[1;36m, line \u001b[1;32m4\u001b[0m\n\u001b[1;33m    if nMyNumber ==nYourNumber\u001b[0m\n\u001b[1;37m                              ^\u001b[0m\n\u001b[1;31mSyntaxError\u001b[0m\u001b[1;31m:\u001b[0m invalid syntax\n"
     ]
    }
   ],
   "source": [
    "What is the output from the execution?\n",
    "nMyNumber = 37\n",
    "nYourNumber = int(input('Input your integer number :'))\n",
    "if nMyNumber ==nYourNumber\n",
    "    print('Correct well done!')\n",
    "else:\n",
    "    print('Sorry try again!')"
   ]
  },
  {
   "cell_type": "code",
   "execution_count": 36,
   "metadata": {},
   "outputs": [
    {
     "name": "stdout",
     "output_type": "stream",
     "text": [
      "Please enter your age : 20\n",
      "The cost is :  10\n"
     ]
    }
   ],
   "source": [
    "nCost=0\n",
    "nAge=int(input('Please enter your age : '))\n",
    "if (nAge < 15):\n",
    "    nCost=0\n",
    "elif (nAge < 21):\n",
    "    nCost=10\n",
    "elif (nAge < 65):\n",
    "    nCost=35\n",
    "else:\n",
    "    nCost=0\n",
    "print('The cost is : ', nCost)"
   ]
  },
  {
   "cell_type": "code",
   "execution_count": 37,
   "metadata": {},
   "outputs": [
    {
     "name": "stdout",
     "output_type": "stream",
     "text": [
      "Please enter your age : 65\n",
      "The cost is :  0\n"
     ]
    }
   ],
   "source": [
    "nCost=0\n",
    "nAge=int(input('Please enter your age : '))\n",
    "if (nAge < 15):   \n",
    "    nCost=0\n",
    "elif (nAge < 21):   \n",
    "    nCost=10\n",
    "elif (nAge < 65):   \n",
    "    nCost=35\n",
    "else:   \n",
    "    nCost=0\n",
    "print('The cost is : ', nCost)\n"
   ]
  },
  {
   "cell_type": "code",
   "execution_count": null,
   "metadata": {},
   "outputs": [],
   "source": []
  }
 ],
 "metadata": {
  "kernelspec": {
   "display_name": "Python 3 (ipykernel)",
   "language": "python",
   "name": "python3"
  },
  "language_info": {
   "codemirror_mode": {
    "name": "ipython",
    "version": 3
   },
   "file_extension": ".py",
   "mimetype": "text/x-python",
   "name": "python",
   "nbconvert_exporter": "python",
   "pygments_lexer": "ipython3",
   "version": "3.9.13"
  }
 },
 "nbformat": 4,
 "nbformat_minor": 2
}
