{
 "cells": [
  {
   "cell_type": "markdown",
   "metadata": {},
   "source": [
    "# Unit 2 Decisions in Programming \n",
    "# IF\n",
    "# check for equality and inequality, multiple conditions (AND OR)\n",
    "#if statements: if condition_test:\n",
    "#do something\n",
    "#if-else statements: if condition_test:\n",
    "#do something\n",
    "#else allows you to define code to execute if condition_test is false\n",
    "#if-elif-else allow multiple conditions (only one path is executed)"
   ]
  },
  {
   "cell_type": "code",
   "execution_count": null,
   "metadata": {},
   "outputs": [],
   "source": [
    "#input\n",
    "year_now=int(input('In which year are we now? '))\n",
    "#process\n",
    "if (year_now == 2023):\n",
    "    #output\n",
    "    print('Welcome to the present ... 2023')\n",
    "else:\n",
    "    print('This is not this year!')  \n",
    "#contine exec here"
   ]
  },
  {
   "cell_type": "code",
   "execution_count": null,
   "metadata": {},
   "outputs": [],
   "source": [
    "#input\n",
    "your_age=int(input('What is your age today? '))\n",
    "#process\n",
    "if (your_age >= 18):\n",
    "    #output\n",
    "    print('You are eligible to vote')\n",
    "else:\n",
    "    print('You are not eligible to vote')"
   ]
  },
  {
   "cell_type": "code",
   "execution_count": null,
   "metadata": {},
   "outputs": [],
   "source": [
    "#input (integer or float)\n",
    "today_temp=int(input('Please input maximum temperature for today : '))\n",
    "#process\n",
    "if (today_temp >= 40):\n",
    "    #output\n",
    "    print('Today will be very hot')\n",
    "else:\n",
    "    print('Today will not be very hot')"
   ]
  },
  {
   "cell_type": "code",
   "execution_count": null,
   "metadata": {},
   "outputs": [],
   "source": []
  },
  {
   "cell_type": "code",
   "execution_count": null,
   "metadata": {},
   "outputs": [],
   "source": []
  },
  {
   "cell_type": "code",
   "execution_count": 2,
   "metadata": {},
   "outputs": [
    {
     "name": "stdout",
     "output_type": "stream",
     "text": [
      "Please input the weather : sunny\n",
      "Umbrella not required\n"
     ]
    }
   ],
   "source": [
    "#input\n",
    "the_weather=input('Please input the weather : ')\n",
    "#process\n",
    "if (the_weather == 'rain'):\n",
    "    #output\n",
    "    print('Please use an umbrella')\n",
    "else:\n",
    "    print('Umbrella not required')"
   ]
  },
  {
   "cell_type": "code",
   "execution_count": null,
   "metadata": {},
   "outputs": [],
   "source": [
    "myAge=int(input('What is your age? '))\n",
    "if myAge >= 18:\n",
    "    print('You are an adult')\n",
    "else:\n",
    "    print('You are not an adult')"
   ]
  },
  {
   "cell_type": "code",
   "execution_count": 6,
   "metadata": {},
   "outputs": [
    {
     "name": "stdout",
     "output_type": "stream",
     "text": [
      "What is your age?20\n",
      " You are a teenager\n"
     ]
    }
   ],
   "source": [
    "# ensure that the entire range is covered\n",
    "myAge=int(input('What is your age?'))\n",
    "if myAge >= 21:\n",
    "    print('You are an adult')\n",
    "elif 13 < myAge < 21:\n",
    "    print(' You are a teenager')\n",
    "else:\n",
    "    print('You are neither a teenager nor an adult')"
   ]
  },
  {
   "cell_type": "code",
   "execution_count": null,
   "metadata": {},
   "outputs": [],
   "source": [
    "# ensure that the entire range is covered multiple AND ORs\n",
    "#WARNING>>>>>>>>>>>>>>>>>>>>>>>>>>>>>>>>>>>>>>>>>>>>>>>>>>>>>>>>>>>>>>>>>>>\n",
    "\n",
    "myAge=int(input('What is your age?  '))\n",
    "myCoffee=input('Do you drink coffee? (Y/N) ')\n",
    "\n",
    "if myCoffee.upper() =='Y':\n",
    "    drinkCoffee = True\n",
    "else:\n",
    "    drinkCoffee = False    \n",
    "    \n",
    "if drinkCoffee:\n",
    "    if (myAge > 21):\n",
    "        print('Adult coffee drinker')\n",
    "    else:\n",
    "        print('Non-adult coffee drinker')\n",
    "else:\n",
    "    if (myAge > 21):\n",
    "        print('Adult non coffee drinker')\n",
    "    else:\n",
    "        print('neither adult nor coffee drinker')       \n"
   ]
  },
  {
   "cell_type": "code",
   "execution_count": 11,
   "metadata": {},
   "outputs": [
    {
     "name": "stdout",
     "output_type": "stream",
     "text": [
      "Input your integer number :101\n",
      "Correct well done!\n"
     ]
    }
   ],
   "source": [
    "#Guess a number\n",
    "nMyNumber = 101\n",
    "nYourNumber = int(input('Input your integer number :'))\n",
    "if nMyNumber ==nYourNumber:\n",
    "    print('Correct well done!')\n",
    "else:\n",
    "    print('Sorry try again!')"
   ]
  },
  {
   "cell_type": "code",
   "execution_count": null,
   "metadata": {},
   "outputs": [],
   "source": []
  },
  {
   "cell_type": "code",
   "execution_count": null,
   "metadata": {},
   "outputs": [],
   "source": []
  },
  {
   "cell_type": "markdown",
   "metadata": {},
   "source": [
    "# introducing lists ... "
   ]
  },
  {
   "cell_type": "code",
   "execution_count": null,
   "metadata": {},
   "outputs": [],
   "source": [
    "myClass=['henry', 'jane', 'mary', 'sibu', 'kabelo', 'dineo', 'andzani']\n",
    "myName = input('What is your name? ')\n",
    "if myName not in myClass:\n",
    "    print('Sorry, your name does not appear on the class list!')\n",
    "else:\n",
    "    print('welcome to another class meeting.  The session shall start shortly ... \\n')"
   ]
  },
  {
   "cell_type": "code",
   "execution_count": null,
   "metadata": {},
   "outputs": [],
   "source": [
    "myClass=['henry', 'jane', 'tyron', 'sibu', 'kabelo', 'dineo', 'andzani']\n",
    "myName = input('What is your name? ')\n",
    "if myName not in myClass:\n",
    "    print('Sorry %s, your name does not appear on the class list!' %(myName.title()))\n",
    "else:\n",
    "    print('Hello %s, and welcome to another class meeting.  The session shall start shortly ... '  %(myName.title()))"
   ]
  },
  {
   "cell_type": "code",
   "execution_count": 12,
   "metadata": {},
   "outputs": [
    {
     "name": "stdout",
     "output_type": "stream",
     "text": [
      "TRUE\n"
     ]
    }
   ],
   "source": [
    "myPet = 'Kit'\n",
    "yourPet = 'Cat'\n",
    "if (len(myPet) == len(yourPet)):\n",
    "    print('TRUE')\n",
    "else:\n",
    "    print('FALSE')"
   ]
  },
  {
   "cell_type": "markdown",
   "metadata": {},
   "source": [
    "## Problem. Calculate the cost of a ticket  for a lecture on The AmaZing World of Python.  \n",
    "##The cost depends on your age.  Anyone younger than 12 is free, younger than 21 is R25.60, between 21 and 65 is R46.75, and 65 and older is free."
   ]
  },
  {
   "cell_type": "code",
   "execution_count": 22,
   "metadata": {},
   "outputs": [
    {
     "name": "stdout",
     "output_type": "stream",
     "text": [
      "What is your age? 21\n",
      "Cost: R46.75\n"
     ]
    }
   ],
   "source": [
    "#add your code here\n",
    "age = int(input(\"What is your age? \"))\n",
    "\n",
    "if age < 12 or age >= 65:\n",
    "    print(\"Cost: free\")\n",
    "elif 12 <= age < 21:\n",
    "    print(\"Cost: R25.60\")\n",
    "elif 21 <= age < 65:\n",
    "    print(\"Cost: R46.75\")"
   ]
  },
  {
   "cell_type": "markdown",
   "metadata": {},
   "source": [
    "##### Problem. Write a Python program that uses an IF statement. The program must prompt the user for the rainfall (in mm) today.  The input value must determine and output a message to the user. If less than 15mm, then 'Very dry day', and more than 100mm then 'Very wet day', else 'Not dry and not wet day'."
   ]
  },
  {
   "cell_type": "code",
   "execution_count": null,
   "metadata": {},
   "outputs": [],
   "source": [
    "#add you code here"
   ]
  }
 ],
 "metadata": {
  "kernelspec": {
   "display_name": "Python 3 (ipykernel)",
   "language": "python",
   "name": "python3"
  },
  "language_info": {
   "codemirror_mode": {
    "name": "ipython",
    "version": 3
   },
   "file_extension": ".py",
   "mimetype": "text/x-python",
   "name": "python",
   "nbconvert_exporter": "python",
   "pygments_lexer": "ipython3",
   "version": "3.9.13"
  }
 },
 "nbformat": 4,
 "nbformat_minor": 2
}
