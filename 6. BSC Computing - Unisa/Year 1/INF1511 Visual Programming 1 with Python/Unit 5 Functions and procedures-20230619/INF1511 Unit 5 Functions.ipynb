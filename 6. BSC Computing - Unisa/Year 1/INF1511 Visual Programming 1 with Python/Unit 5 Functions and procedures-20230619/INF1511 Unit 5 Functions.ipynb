{
 "cells": [
  {
   "cell_type": "code",
   "execution_count": null,
   "metadata": {},
   "outputs": [],
   "source": [
    "#functions have a name\n",
    "#functions are passed values using parameter\n",
    "#functions can return a result"
   ]
  },
  {
   "cell_type": "code",
   "execution_count": 6,
   "metadata": {},
   "outputs": [
    {
     "name": "stdout",
     "output_type": "stream",
     "text": [
      "First number :6\n",
      "Second number :8\n",
      "7.00\n"
     ]
    }
   ],
   "source": [
    "def my_average(a,b):\n",
    "    c=(a+b)/2\n",
    "    return (c)\n",
    "\n",
    "\n",
    "nFirst=int(input('First number :'))\n",
    "nSecond=int(input('Second number :'))\n",
    "nTotal=my_average(nFirst, nSecond)\n",
    "print(f\"{nTotal:.2f}\")"
   ]
  },
  {
   "cell_type": "code",
   "execution_count": 7,
   "metadata": {},
   "outputs": [
    {
     "name": "stdout",
     "output_type": "stream",
     "text": [
      "First number :8\n",
      "Second number :6\n",
      "2\n"
     ]
    }
   ],
   "source": [
    "def subtract(a,b):\n",
    "    c=a-b\n",
    "    return (c)\n",
    "\n",
    "nFirst=int(input('First number :'))\n",
    "nSecond=int(input('Second number :'))\n",
    "\n",
    "nTotal=subtract(nFirst, nSecond)\n",
    "print(nTotal)"
   ]
  },
  {
   "cell_type": "code",
   "execution_count": 8,
   "metadata": {},
   "outputs": [
    {
     "name": "stdout",
     "output_type": "stream",
     "text": [
      "15\n"
     ]
    }
   ],
   "source": [
    "def myAdd(a,b,c,d,e):\n",
    "    return (a+b+c+d+e)\n",
    "\n",
    "nTotal=myAdd(1,2,3,4,5)\n",
    "print(nTotal)"
   ]
  },
  {
   "cell_type": "code",
   "execution_count": 10,
   "metadata": {},
   "outputs": [
    {
     "name": "stdout",
     "output_type": "stream",
     "text": [
      "11.0\n"
     ]
    }
   ],
   "source": [
    "#comment ....\n",
    "def my_average(a,b,c,d,e):\n",
    "    return (a+b+c+d+e/5.0)\n",
    "\n",
    "#input\n",
    "\n",
    "#processing\n",
    "nAve=my_average(1,2,3,4,5)\n",
    "#output\n",
    "print(nAve)"
   ]
  },
  {
   "cell_type": "code",
   "execution_count": 13,
   "metadata": {},
   "outputs": [
    {
     "name": "stdout",
     "output_type": "stream",
     "text": [
      "Please enter a number : 3\n",
      "sorry, not defined\n"
     ]
    }
   ],
   "source": [
    "#comment ....\n",
    "def my_number(nNum):\n",
    "    if nNum==1:\n",
    "        return('one')\n",
    "    elif nNum==2:\n",
    "        return('two')\n",
    "    else:\n",
    "        return('sorry, not defined')\n",
    "    \n",
    "#input\n",
    "nNum=int(input('Please enter a number : '))\n",
    "#processing\n",
    "\n",
    "#output\n",
    "print(my_number(nNum))"
   ]
  },
  {
   "cell_type": "code",
   "execution_count": 14,
   "metadata": {},
   "outputs": [
    {
     "name": "stdout",
     "output_type": "stream",
     "text": [
      "please enter a number : 4\n",
      "24\n",
      "8\n"
     ]
    }
   ],
   "source": [
    "#define the function using default value parameter\n",
    "def the_sum(a,b=20):\n",
    "    return (a+b)\n",
    "\n",
    "#input\n",
    "myNum=int(input(\"please enter a number : \"))\n",
    "\n",
    "nTotal=the_sum(myNum)\n",
    "print(nTotal)\n",
    "nTotal=the_sum(myNum, myNum)\n",
    "print(nTotal)"
   ]
  },
  {
   "cell_type": "code",
   "execution_count": 15,
   "metadata": {},
   "outputs": [
    {
     "name": "stdout",
     "output_type": "stream",
     "text": [
      "The value of x in function is :  0\n",
      "The value of x in function is :  5\n",
      "The value of x out of function is :  5\n"
     ]
    }
   ],
   "source": [
    "#global and local variables\n",
    "def my_add():\n",
    "    global x\n",
    "    print('The value of x in function is : ', x)\n",
    "    x=x+5\n",
    "    print('The value of x in function is : ', x)\n",
    "    return\n",
    "x=0\n",
    "my_add()\n",
    "print('The value of x out of function is : ', x)"
   ]
  },
  {
   "cell_type": "code",
   "execution_count": 16,
   "metadata": {},
   "outputs": [
    {
     "name": "stdout",
     "output_type": "stream",
     "text": [
      "The value of x in function is :  0\n",
      "The value of x in function is :  5\n",
      "The value of x out of function is :  0\n"
     ]
    }
   ],
   "source": [
    "#global and local variables\n",
    "def my_add(x):\n",
    "    #global x\n",
    "    print('The value of x in function is : ', x)\n",
    "    x=x+5\n",
    "    print('The value of x in function is : ', x)\n",
    "    return\n",
    "x=0\n",
    "my_add(x)\n",
    "print('The value of x out of function is : ', x)"
   ]
  },
  {
   "cell_type": "code",
   "execution_count": 17,
   "metadata": {},
   "outputs": [
    {
     "name": "stdout",
     "output_type": "stream",
     "text": [
      "input a value : 3\n",
      "15\n"
     ]
    }
   ],
   "source": [
    "#lamda functions\n",
    "def f(y):\n",
    "    return (y+2)*3\n",
    "\n",
    "x=int(input('input a value : '))\n",
    "print(f(x))"
   ]
  },
  {
   "cell_type": "code",
   "execution_count": 18,
   "metadata": {},
   "outputs": [
    {
     "name": "stdout",
     "output_type": "stream",
     "text": [
      "input your first name : Rich\n",
      "input your surname : Tafs\n",
      "Rich Tafs\n"
     ]
    }
   ],
   "source": [
    "#using functions to format input\n",
    "def my_format(s1, s2):\n",
    "    fullName = s1 + ' ' + s2\n",
    "    #fullName = s1.title() + ' ' + s2.title()\n",
    "    return fullName\n",
    "#input\n",
    "firstname=input('input your first name : ')\n",
    "surname = input('input your surname : ')\n",
    "#processing\n",
    "myName=my_format(firstname, surname)\n",
    "#output\n",
    "print(myName)"
   ]
  },
  {
   "cell_type": "code",
   "execution_count": 21,
   "metadata": {},
   "outputs": [
    {
     "name": "stdout",
     "output_type": "stream",
     "text": [
      "[2, 4, 6, 8]\n"
     ]
    }
   ],
   "source": [
    "def evenval(x):\n",
    "    return (x%2 ==0)\n",
    "\n",
    "#input\n",
    "#nStart=int(input('Enter a start number : '))\n",
    "#nEnd=int(input('Enter an end number: '))\n",
    "myEvens=filter(evenval, range(1,10))\n",
    "print(list(myEvens))"
   ]
  },
  {
   "cell_type": "code",
   "execution_count": 22,
   "metadata": {},
   "outputs": [
    {
     "name": "stdout",
     "output_type": "stream",
     "text": [
      "[1, 4, 9, 16, 25, 36, 49, 64, 81, 100]\n"
     ]
    }
   ],
   "source": [
    "def square(nNum):\n",
    "    return (nNum*nNum)\n",
    "#input\n",
    "#nStart=int(input('Enter a start number : '))\n",
    "#nEnd=int(input('Enter an end number: '))\n",
    "#process\n",
    "mySquare=map(square, range(1,11))\n",
    "#output\n",
    "print(list(mySquare))"
   ]
  },
  {
   "cell_type": "code",
   "execution_count": 23,
   "metadata": {},
   "outputs": [
    {
     "name": "stdout",
     "output_type": "stream",
     "text": [
      "10\n"
     ]
    }
   ],
   "source": [
    "#note that functools is a module that is imported\n",
    "import functools\n",
    "def myAdd(x, y):\n",
    "    return (x+y)\n",
    "mySum=functools.reduce(myAdd, range(1,5))\n",
    "print(mySum)"
   ]
  },
  {
   "cell_type": "code",
   "execution_count": null,
   "metadata": {},
   "outputs": [],
   "source": [
    "#define the function attributes\n",
    "#change the value of the function attributes ....\n"
   ]
  },
  {
   "cell_type": "code",
   "execution_count": null,
   "metadata": {},
   "outputs": [],
   "source": [
    "#you can implement recursion using a function\n",
    "#Write a program using recursion that adds 10 numbers"
   ]
  },
  {
   "cell_type": "code",
   "execution_count": null,
   "metadata": {},
   "outputs": [],
   "source": [
    "#Write a program to demonstrate the use of an iterator and a generator"
   ]
  },
  {
   "cell_type": "code",
   "execution_count": null,
   "metadata": {},
   "outputs": [],
   "source": [
    "#there are a number of ways of importing modules .... NB\n",
    "from calendar import *\n",
    "year=int(input('The year is : '))\n",
    "prcal(year)"
   ]
  },
  {
   "cell_type": "code",
   "execution_count": null,
   "metadata": {},
   "outputs": [],
   "source": [
    "#import math"
   ]
  },
  {
   "cell_type": "code",
   "execution_count": null,
   "metadata": {},
   "outputs": [],
   "source": [
    "def my_pet(petType,petName):\n",
    "    print('I have a %s named %s.' %(petType.lower(), petName.title()))\n",
    "\n",
    "petType = str(input(\"What type of pet do you have? \"))\n",
    "petName = str(input(\"What is the name of your pet? \"))\n",
    "my_pet(petType, petName)"
   ]
  },
  {
   "cell_type": "markdown",
   "metadata": {},
   "source": [
    "## Function\n",
    "Defines a function called myDate.\n",
    "The program must prompt the user for the input to the function, namely is three integers (nDay, nMonth, nYear). \n",
    "The output from the function must be a string message describing your birthday. \n",
    "The function call theMessage = myDate (nDay, nMonth, nYear), must be following by a print(theMessage)."
   ]
  },
  {
   "cell_type": "code",
   "execution_count": 24,
   "metadata": {},
   "outputs": [
    {
     "name": "stdout",
     "output_type": "stream",
     "text": [
      "On which day were you born? 12\n",
      "In which month were you born? 12\n",
      "In which year were you born? 1986\n",
      "The month is December\n",
      "You were born on 12 December 1986\n"
     ]
    }
   ],
   "source": [
    "def my_date(nDay, nMonth, nYear):\n",
    "    sMonth = 'XXX'\n",
    "    months = ['January','February','March','April','May','June','July','August','September','October','November','December']\n",
    "    if 1 <= nMonth <= 12:\n",
    "        print (\"The month is\", months[nMonth-1])\n",
    "        sMonth = months[nMonth-1]\n",
    "    else:\n",
    "        print (\"Value is out of the range\") \n",
    "    return ('You were born on %d %s %d' %(nDay, sMonth, nYear))    \n",
    "        \n",
    "nDay   = int(input(\"On which day were you born? \"))\n",
    "nMonth = int(input(\"In which month were you born? \"))\n",
    "nYear  = int(input(\"In which year were you born? \"))\n",
    "\n",
    "theMessage = my_date(nDay, nMonth, nYear)\n",
    "print(theMessage)   "
   ]
  },
  {
   "cell_type": "code",
   "execution_count": 26,
   "metadata": {},
   "outputs": [
    {
     "name": "stdout",
     "output_type": "stream",
     "text": [
      "What type of pet do you have? CAT\n",
      "What is the name of your pet? name1\n",
      "I have a cat named Name1.\n"
     ]
    }
   ],
   "source": [
    "def myPet(pType,pName):   \n",
    "   print('I have a %s named %s.' %(pType.lower(), pName.title()))\n",
    "\n",
    "petType = str(input(\"What type of pet do you have? \"))\n",
    "petName = str(input(\"What is the name of your pet? \"))\n",
    "myPet(petType, petName)\n"
   ]
  },
  {
   "cell_type": "code",
   "execution_count": 27,
   "metadata": {},
   "outputs": [
    {
     "name": "stdout",
     "output_type": "stream",
     "text": [
      "What is the current month? 6\n",
      "The month is June\n"
     ]
    }
   ],
   "source": [
    "def myMonth(xMonth):\n",
    "    months = ['Jan','Feb','March','April','May','June','July','Aug','Sep','Oct','Nov','Dec']\n",
    "    if 1 <= xMonth <= 12:\n",
    "        sPrint = 'The month is ' + months[xMonth-1]\n",
    "        sMonth = months[xMonth-1]\n",
    "    else:\n",
    "        sPrint = 'Value is out of the range'\n",
    "    return (sPrint)\n",
    "\n",
    "nMonth = int(input(\"What is the current month? \"))\n",
    "print(myMonth(nMonth))"
   ]
  },
  {
   "cell_type": "code",
   "execution_count": 28,
   "metadata": {},
   "outputs": [
    {
     "ename": "SyntaxError",
     "evalue": "invalid syntax (2851984386.py, line 2)",
     "output_type": "error",
     "traceback": [
      "\u001b[1;36m  File \u001b[1;32m\"C:\\Users\\Tafirenyikas\\AppData\\Local\\Temp\\ipykernel_2260\\2851984386.py\"\u001b[1;36m, line \u001b[1;32m2\u001b[0m\n\u001b[1;33m    def f[Yes]:\u001b[0m\n\u001b[1;37m         ^\u001b[0m\n\u001b[1;31mSyntaxError\u001b[0m\u001b[1;31m:\u001b[0m invalid syntax\n"
     ]
    }
   ],
   "source": [
    "x = 4\n",
    "def f[Yes]:   \n",
    "  return (y+2)*3"
   ]
  },
  {
   "cell_type": "code",
   "execution_count": 29,
   "metadata": {},
   "outputs": [
    {
     "name": "stdout",
     "output_type": "stream",
     "text": [
      "What type of pet do you have? dog\n",
      "What is the name of your pet? jack\n",
      "I have a DOG named JACK.\n"
     ]
    }
   ],
   "source": [
    "def myPet(pType,pName):\n",
    "    print('I have a %s named %s.' %(pType.upper(), pName.upper()))\n",
    "\n",
    "petType = str(input(\"What type of pet do you have? \"))\n",
    "petName = str(input(\"What is the name of your pet? \"))\n",
    "myPet(petType, petName)\n"
   ]
  },
  {
   "cell_type": "code",
   "execution_count": 30,
   "metadata": {},
   "outputs": [
    {
     "name": "stdout",
     "output_type": "stream",
     "text": [
      "Enter a start number : 8\n",
      "Enter an end number: 10\n",
      "[64, 81]\n"
     ]
    }
   ],
   "source": [
    "def square(nNum):\n",
    "    return (nNum*nNum)\n",
    "#input\n",
    "nStart=int(input('Enter a start number : '))\n",
    "nEnd=int(input('Enter an end number: '))\n",
    "#process\n",
    "mySquare=map(square, range(nStart,nEnd))\n",
    "#output\n",
    "print(list(mySquare))"
   ]
  },
  {
   "cell_type": "code",
   "execution_count": 32,
   "metadata": {},
   "outputs": [
    {
     "name": "stdout",
     "output_type": "stream",
     "text": [
      "The value of x in function is :  100\n",
      "The value of x in function is :  500\n",
      "The value of x out of function is :  500\n"
     ]
    }
   ],
   "source": [
    "def myXFunction():\n",
    "    global x   \n",
    "    print('The value of x in function is : ', x)\n",
    "    x=x*5\n",
    "    print('The value of x in function is : ', x)\n",
    "    return\n",
    "\n",
    "x=100\n",
    "myXFunction()\n",
    "print('The value of x out of function is : ', x)\n"
   ]
  },
  {
   "cell_type": "code",
   "execution_count": 34,
   "metadata": {},
   "outputs": [
    {
     "name": "stdout",
     "output_type": "stream",
     "text": [
      "please enter a number:100\n",
      "122\n",
      "200\n"
     ]
    }
   ],
   "source": [
    "def sum(one,two=22):\n",
    "    return (one+two)\n",
    "\n",
    "#input\n",
    "myNum=int(input(\"please enter a number:\"))\n",
    "nTotal=sum(myNum)\n",
    "print(nTotal)\n",
    "nTotal=sum(myNum, myNum)\n",
    "print(nTotal)"
   ]
  },
  {
   "cell_type": "code",
   "execution_count": 36,
   "metadata": {},
   "outputs": [],
   "source": [
    "def myAverage(a,b,c):\n",
    "    return ((a+b+c)/3.0)"
   ]
  },
  {
   "cell_type": "code",
   "execution_count": 37,
   "metadata": {},
   "outputs": [
    {
     "data": {
      "text/plain": [
       "2.0"
      ]
     },
     "execution_count": 37,
     "metadata": {},
     "output_type": "execute_result"
    }
   ],
   "source": [
    " myAverage(1,2,3)"
   ]
  },
  {
   "cell_type": "code",
   "execution_count": 38,
   "metadata": {},
   "outputs": [],
   "source": [
    "def myAverage(a,b,c):\n",
    "    return (a+b+c/3.0)"
   ]
  },
  {
   "cell_type": "code",
   "execution_count": 39,
   "metadata": {},
   "outputs": [
    {
     "data": {
      "text/plain": [
       "4.0"
      ]
     },
     "execution_count": 39,
     "metadata": {},
     "output_type": "execute_result"
    }
   ],
   "source": [
    " myAverage(1,2,3)"
   ]
  },
  {
   "cell_type": "code",
   "execution_count": null,
   "metadata": {},
   "outputs": [],
   "source": []
  }
 ],
 "metadata": {
  "kernelspec": {
   "display_name": "Python 3 (ipykernel)",
   "language": "python",
   "name": "python3"
  },
  "language_info": {
   "codemirror_mode": {
    "name": "ipython",
    "version": 3
   },
   "file_extension": ".py",
   "mimetype": "text/x-python",
   "name": "python",
   "nbconvert_exporter": "python",
   "pygments_lexer": "ipython3",
   "version": "3.9.13"
  }
 },
 "nbformat": 4,
 "nbformat_minor": 2
}
