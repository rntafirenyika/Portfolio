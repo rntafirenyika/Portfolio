{
 "cells": [
  {
   "cell_type": "code",
   "execution_count": null,
   "metadata": {},
   "outputs": [],
   "source": [
    "#functions have a name\n",
    "#functions are passed values using parameter\n",
    "#functions can return a result"
   ]
  },
  {
   "cell_type": "code",
   "execution_count": 3,
   "metadata": {},
   "outputs": [
    {
     "ename": "SyntaxError",
     "evalue": "invalid syntax (1828983687.py, line 9)",
     "output_type": "error",
     "traceback": [
      "\u001b[1;36m  File \u001b[1;32m\"C:\\Users\\Tafirenyikas\\AppData\\Local\\Temp\\ipykernel_2260\\1828983687.py\"\u001b[1;36m, line \u001b[1;32m9\u001b[0m\n\u001b[1;33m    print(nTotal:.2f)\u001b[0m\n\u001b[1;37m                ^\u001b[0m\n\u001b[1;31mSyntaxError\u001b[0m\u001b[1;31m:\u001b[0m invalid syntax\n"
     ]
    }
   ],
   "source": [
    "def my_average(a,b):\n",
    "    c=(a+b)/2\n",
    "    return (c)\n",
    "\n",
    "\n",
    "nFirst=int(input('First number :'))\n",
    "nSecond=int(input('Second number :'))\n",
    "nTotal=my_average(nFirst, nSecond)\n",
    "print(f\"{nTotal:.2f\"})"
   ]
  },
  {
   "cell_type": "code",
   "execution_count": null,
   "metadata": {},
   "outputs": [],
   "source": [
    "def subtract(a,b):\n",
    "    c=a-b\n",
    "    return (c)\n",
    "\n",
    "nFirst=int(input('First number :'))\n",
    "nSecond=int(input('Second number :'))\n",
    "\n",
    "nTotal=subtract(nFirst, nSecond)\n",
    "print(nTotal)"
   ]
  },
  {
   "cell_type": "code",
   "execution_count": null,
   "metadata": {},
   "outputs": [],
   "source": [
    "def myAdd(a,b,c,d,e):\n",
    "    return (a+b+c+d+e)\n",
    "\n",
    "nTotal=myAdd(1,2,3,4,5)\n",
    "print(nTotal)"
   ]
  },
  {
   "cell_type": "code",
   "execution_count": null,
   "metadata": {},
   "outputs": [],
   "source": [
    "#comment ....\n",
    "def my_average(a,b,c,d,e)\n",
    "    return (a+b+c+d+e/5.0)\n",
    "\n",
    "#input\n",
    "\n",
    "#processing\n",
    "nAve=my_average(1,2,3,4,5)\n",
    "#output\n",
    "print(nAve)"
   ]
  },
  {
   "cell_type": "code",
   "execution_count": null,
   "metadata": {},
   "outputs": [],
   "source": [
    "#comment ....\n",
    "def my_number(nNum):\n",
    "    if nNum==1:\n",
    "        return('one')\n",
    "    elif nNum==2:\n",
    "        return('two')\n",
    "    else:\n",
    "        return('sorry, not defined')\n",
    "    \n",
    "#input\n",
    "nNum=int(input('Please enter a number : '))\n",
    "#processing\n",
    "\n",
    "#output\n",
    "print(my_number(nNum))"
   ]
  },
  {
   "cell_type": "code",
   "execution_count": null,
   "metadata": {},
   "outputs": [],
   "source": [
    "#define the function using default value parameter\n",
    "def the_sum(a,b=20):\n",
    "    return (a+b)\n",
    "\n",
    "#input\n",
    "myNum=int(input(\"please enter a number : \"))\n",
    "\n",
    "nTotal=the_sum(myNum)\n",
    "print(nTotal)\n",
    "nTotal=the_sum(myNum, myNum)\n",
    "print(nTotal)"
   ]
  },
  {
   "cell_type": "code",
   "execution_count": null,
   "metadata": {},
   "outputs": [],
   "source": [
    "#global and local variables\n",
    "def my_add():\n",
    "    global x\n",
    "    print('The value of x in function is : ', x)\n",
    "    x=x+5\n",
    "    print('The value of x in function is : ', x)\n",
    "    return\n",
    "x=0\n",
    "my_add()\n",
    "print('The value of x out of function is : ', x)"
   ]
  },
  {
   "cell_type": "code",
   "execution_count": null,
   "metadata": {},
   "outputs": [],
   "source": [
    "#global and local variables\n",
    "def my_add(x):\n",
    "    #global x\n",
    "    print('The value of x in function is : ', x)\n",
    "    x=x+5\n",
    "    print('The value of x in function is : ', x)\n",
    "    return\n",
    "x=0\n",
    "my_add(x)\n",
    "print('The value of x out of function is : ', x)"
   ]
  },
  {
   "cell_type": "code",
   "execution_count": null,
   "metadata": {},
   "outputs": [],
   "source": [
    "#lamda functions\n",
    "def f(y):\n",
    "    return (y+2)*3\n",
    "\n",
    "x=int(input('input a value : '))\n",
    "print(f(x))"
   ]
  },
  {
   "cell_type": "code",
   "execution_count": null,
   "metadata": {},
   "outputs": [],
   "source": [
    "#using functions to format input\n",
    "def my_format(s1, s2):\n",
    "    fullName = s1 + ' ' + s2\n",
    "    #fullName = s1.title() + ' ' + s2.title()\n",
    "    return fullName\n",
    "#input\n",
    "firstname=input('input your first name : ')\n",
    "surname = input('input your surname : ')\n",
    "#processing\n",
    "myName=my_format(firstname, surname)\n",
    "#output\n",
    "print(myName)"
   ]
  },
  {
   "cell_type": "code",
   "execution_count": null,
   "metadata": {},
   "outputs": [],
   "source": [
    "def evenval(x):\n",
    "    return (x%2 ==0)\n",
    "\n",
    "#input\n",
    "#nStart=int(input('Enter a start number : '))\n",
    "#nEnd=int(input('Enter an end number: '))\n",
    "myEvens=filter(evenval, range(1,10))\n",
    "print(list(myEvens))"
   ]
  },
  {
   "cell_type": "code",
   "execution_count": null,
   "metadata": {},
   "outputs": [],
   "source": [
    "def square(nNum):\n",
    "    return (nNum*nNum)\n",
    "#input\n",
    "#nStart=int(input('Enter a start number : '))\n",
    "#nEnd=int(input('Enter an end number: '))\n",
    "#process\n",
    "mySquare=map(square, range(1,11))\n",
    "#output\n",
    "print(list(mySquare))"
   ]
  },
  {
   "cell_type": "code",
   "execution_count": null,
   "metadata": {},
   "outputs": [],
   "source": [
    "#note that functools is a module that is imported\n",
    "import functools\n",
    "def myAdd(x, y):\n",
    "    return (x+y)\n",
    "mySum=functools.reduce(myAdd, range(1,5))\n",
    "print(mySum)"
   ]
  },
  {
   "cell_type": "code",
   "execution_count": null,
   "metadata": {},
   "outputs": [],
   "source": [
    "#define the function attributes\n",
    "#change the value of the function attributes ....\n"
   ]
  },
  {
   "cell_type": "code",
   "execution_count": null,
   "metadata": {},
   "outputs": [],
   "source": [
    "#you can implement recursion using a function\n",
    "#Write a program using recursion that adds 10 numbers"
   ]
  },
  {
   "cell_type": "code",
   "execution_count": null,
   "metadata": {},
   "outputs": [],
   "source": [
    "#Write a program to demonstrate the use of an iterator and a generator"
   ]
  },
  {
   "cell_type": "code",
   "execution_count": null,
   "metadata": {},
   "outputs": [],
   "source": [
    "#there are a number of ways of importing modules .... NB\n",
    "from calendar import *\n",
    "year=int(input('The year is : '))\n",
    "prcal(year)"
   ]
  },
  {
   "cell_type": "code",
   "execution_count": null,
   "metadata": {},
   "outputs": [],
   "source": [
    "#import math"
   ]
  },
  {
   "cell_type": "code",
   "execution_count": null,
   "metadata": {},
   "outputs": [],
   "source": [
    "def my_pet(petType,petName):\n",
    "    print('I have a %s named %s.' %(petType.lower(), petName.title()))\n",
    "\n",
    "petType = str(input(\"What type of pet do you have? \"))\n",
    "petName = str(input(\"What is the name of your pet? \"))\n",
    "my_pet(petType, petName)"
   ]
  },
  {
   "cell_type": "markdown",
   "metadata": {},
   "source": [
    "## Function\n",
    "Defines a function called myDate.\n",
    "The program must prompt the user for the input to the function, namely is three integers (nDay, nMonth, nYear). \n",
    "The output from the function must be a string message describing your birthday. \n",
    "The function call theMessage = myDate (nDay, nMonth, nYear), must be following by a print(theMessage)."
   ]
  },
  {
   "cell_type": "code",
   "execution_count": null,
   "metadata": {},
   "outputs": [],
   "source": [
    "def my_date(nDay, nMonth, nYear):\n",
    "    sMonth = 'XXX'\n",
    "    months = ['January','February','March','April','May','June','July','August','September','October','November','December']\n",
    "    if 1 <= nMonth <= 12:\n",
    "        print (\"The month is\", months[nMonth-1])\n",
    "        sMonth = months[nMonth-1]\n",
    "    else:\n",
    "        print (\"Value is out of the range\") \n",
    "    return ('You were born on %d %s %d' %(nDay, sMonth, nYear))    \n",
    "        \n",
    "nDay   = int(input(\"On which day were you born? \"))\n",
    "nMonth = int(input(\"In which month were you born? \"))\n",
    "nYear  = int(input(\"In which year were you born? \"))\n",
    "\n",
    "theMessage = my_date(nDay, nMonth, nYear)\n",
    "print(theMessage)   "
   ]
  },
  {
   "cell_type": "code",
   "execution_count": null,
   "metadata": {},
   "outputs": [],
   "source": [
    "\n"
   ]
  },
  {
   "cell_type": "code",
   "execution_count": null,
   "metadata": {},
   "outputs": [],
   "source": []
  }
 ],
 "metadata": {
  "kernelspec": {
   "display_name": "Python 3 (ipykernel)",
   "language": "python",
   "name": "python3"
  },
  "language_info": {
   "codemirror_mode": {
    "name": "ipython",
    "version": 3
   },
   "file_extension": ".py",
   "mimetype": "text/x-python",
   "name": "python",
   "nbconvert_exporter": "python",
   "pygments_lexer": "ipython3",
   "version": "3.9.13"
  }
 },
 "nbformat": 4,
 "nbformat_minor": 2
}
