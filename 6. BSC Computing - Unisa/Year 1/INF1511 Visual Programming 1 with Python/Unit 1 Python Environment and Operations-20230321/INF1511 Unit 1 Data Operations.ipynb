{
 "cells": [
  {
   "cell_type": "markdown",
   "metadata": {},
   "source": [
    "## 2023 Unit 1 Numbers and number operations\n"
   ]
  },
  {
   "cell_type": "code",
   "execution_count": 6,
   "metadata": {},
   "outputs": [
    {
     "name": "stdout",
     "output_type": "stream",
     "text": [
      "hello world\n"
     ]
    }
   ],
   "source": [
    "print('hello world')\n",
    "#write a program that stores a number in a variable, and then print the number\n",
    "#write a program that adds to numbers that are stored in variables.\n",
    "#write a program that asks for your favourite number and prints result.  \n",
    "#Modify program to add the number to itself and show result.\n",
    "#remember input, process and output"
   ]
  },
  {
   "cell_type": "code",
   "execution_count": 7,
   "metadata": {},
   "outputs": [
    {
     "name": "stdout",
     "output_type": "stream",
     "text": [
      "Numbers: 345 987\n",
      "Total: :1332\n"
     ]
    }
   ],
   "source": [
    "#this code will add two numbers\n",
    "#input\n",
    "num_1=345\n",
    "num_2=987\n",
    "#processing\n",
    "total=num_1+num_2\n",
    "#output\n",
    "print(f'Numbers: {num_1} {num_2}')\n",
    "print(f'Total: :{total}')"
   ]
  },
  {
   "cell_type": "markdown",
   "metadata": {},
   "source": [
    "## Problem: Add two numbers and show the result"
   ]
  },
  {
   "cell_type": "code",
   "execution_count": 8,
   "metadata": {},
   "outputs": [
    {
     "name": "stdout",
     "output_type": "stream",
     "text": [
      "Total : 12454.320000000002\n"
     ]
    }
   ],
   "source": [
    "#adding a comment would help\n",
    "#input\n",
    "my_tax=12354.45\n",
    "your_tax=99.87\n",
    "#processing\n",
    "total=my_tax+your_tax\n",
    "#output\n",
    "print('Total :', total)"
   ]
  },
  {
   "cell_type": "markdown",
   "metadata": {},
   "source": [
    "## Ask for input and show output and add comments (integers and floats)"
   ]
  },
  {
   "cell_type": "code",
   "execution_count": 9,
   "metadata": {},
   "outputs": [
    {
     "name": "stdout",
     "output_type": "stream",
     "text": [
      "Total : 15\n"
     ]
    }
   ],
   "source": [
    "#this program add the number of masks\n",
    "#input\n",
    "num_1=int(input('Please a first number: '))\n",
    "num_2=int(input('Please a second number: '))\n",
    "#processing\n",
    "total=num_1+num_2\n",
    "#output\n",
    "print('Total :', total)"
   ]
  },
  {
   "cell_type": "markdown",
   "metadata": {},
   "source": [
    "## A problem that is more detailed, with comments, input, process and output"
   ]
  },
  {
   "cell_type": "code",
   "execution_count": 10,
   "metadata": {},
   "outputs": [
    {
     "name": "stdout",
     "output_type": "stream",
     "text": [
      "Total learners :  41\n"
     ]
    }
   ],
   "source": [
    "#This is comment\n",
    "num_1=int(input('Please enter the number of learners in Grade 1 : '))\n",
    "num_2=int(input('Please enter the number of learners in Grade 2 : '))\n",
    "#this is the processing\n",
    "total= num_1+num_2\n",
    "#this is the output\n",
    "print('Total learners : ', total)"
   ]
  },
  {
   "cell_type": "markdown",
   "metadata": {},
   "source": [
    "## Changing from adding to other operations (meaningful names)"
   ]
  },
  {
   "cell_type": "code",
   "execution_count": null,
   "metadata": {},
   "outputs": [],
   "source": [
    "#How many pencils does each learner receive?\n",
    "#This is the input\n",
    "a=int(input('Please enter the number of pencils issued to the school : '))\n",
    "b=int(input('Please enter the number of learners in the school: '))\n",
    "#this is the processing\n",
    "each=a//b\n",
    "remain=a%b\n",
    "#this is the output\n",
    "print('Pencils per learner :', each)\n",
    "print('Remainder :', remain)"
   ]
  },
  {
   "cell_type": "markdown",
   "metadata": {},
   "source": [
    "## Changing multiple. Change the data type?"
   ]
  },
  {
   "cell_type": "code",
   "execution_count": null,
   "metadata": {},
   "outputs": [],
   "source": [
    "#calculate the area of a rectangle\n",
    "#input\n",
    "length=int(input('Please enter the length of the rectangle: '))\n",
    "breadth=float(input('Please enter the breadth of the rectangle: '))\n",
    "#process\n",
    "area=length*breadth\n",
    "#output\n",
    "print('The area in square meters is:', area)"
   ]
  },
  {
   "cell_type": "code",
   "execution_count": null,
   "metadata": {},
   "outputs": [],
   "source": [
    "#calcuate the area of a triangle.\n",
    "#ask the user for input values\n",
    "base=int(input('Please enter the base length (m): '))\n",
    "height=int(input('Please enter the height (m): '))\n",
    "area=0.5*base*height\n",
    "print('Area is (in square meters) : ', area)"
   ]
  },
  {
   "cell_type": "markdown",
   "metadata": {},
   "source": [
    "## Add the marks that you received for 4 assignments, and calcuate the average value\n"
   ]
  },
  {
   "cell_type": "code",
   "execution_count": 1,
   "metadata": {},
   "outputs": [
    {
     "name": "stdout",
     "output_type": "stream",
     "text": [
      "Your average is  63.0\n"
     ]
    }
   ],
   "source": [
    "#calculate the average marks from 4 assignments\n",
    "#ask user for the assignment marks\n",
    "assignment1 = int(input(\"Marks for assignment 1: \"))\n",
    "assignment2 = int(input(\"Marks for assignment 2: \"))\n",
    "assignment3 = int(input(\"Marks for assignment 3: \"))\n",
    "assignment4 = int(input(\"Marks for assignment 4: \"))\n",
    "#calculate averages\n",
    "av = (assignment1+assignment2+assignment3+assignment4) / 4.0\n",
    "print(f\"Your average is \", av)"
   ]
  },
  {
   "cell_type": "markdown",
   "metadata": {},
   "source": [
    "## Using a number to a power"
   ]
  },
  {
   "cell_type": "code",
   "execution_count": 2,
   "metadata": {},
   "outputs": [
    {
     "name": "stdout",
     "output_type": "stream",
     "text": [
      "32\n"
     ]
    }
   ],
   "source": [
    "a=2\n",
    "b=5\n",
    "thepower=a**b\n",
    "print(thepower)"
   ]
  },
  {
   "cell_type": "markdown",
   "metadata": {},
   "source": [
    "## Use the radius of a wheel to calcuate the circumference of the wheel\n"
   ]
  },
  {
   "cell_type": "code",
   "execution_count": 4,
   "metadata": {},
   "outputs": [
    {
     "name": "stdout",
     "output_type": "stream",
     "text": [
      "The circumference is 452.39\n"
     ]
    }
   ],
   "source": [
    "#calculate the circumference of a circle/wheel\n",
    "#ask user for the radius\n",
    "import math\n",
    "radius = float(input(\"Radius of wheel: \"))\n",
    "circum = math.pi * radius**2\n",
    "print(f\"The circumference is {circum:.2f}\")\n"
   ]
  },
  {
   "cell_type": "markdown",
   "metadata": {},
   "source": [
    "## Calculate the speed. Ask for user input in km and hours.  Format the output in km/h to two decimal values."
   ]
  },
  {
   "cell_type": "code",
   "execution_count": 6,
   "metadata": {},
   "outputs": [
    {
     "name": "stdout",
     "output_type": "stream",
     "text": [
      "The speed is 12.00km/h\n"
     ]
    }
   ],
   "source": [
    "#calculate the speed given km and hours\n",
    "#ask user for the inputs\n",
    "km = float(input(\"Kilometers: \"))\n",
    "hours = float(input(\"Hours: \"))\n",
    "speed = km / hours\n",
    "print(f\"The speed is {speed:.2f}km/h\")\n"
   ]
  },
  {
   "cell_type": "markdown",
   "metadata": {},
   "source": [
    "## Determine the data type of a variable. Ask for user input for integer, float and string."
   ]
  },
  {
   "cell_type": "code",
   "execution_count": 9,
   "metadata": {},
   "outputs": [
    {
     "name": "stdout",
     "output_type": "stream",
     "text": [
      "<class 'int'>\n"
     ]
    }
   ],
   "source": [
    "a=21\n",
    "print(type(a))"
   ]
  },
  {
   "cell_type": "code",
   "execution_count": 13,
   "metadata": {},
   "outputs": [
    {
     "name": "stdout",
     "output_type": "stream",
     "text": [
      "<class 'str'>\n"
     ]
    }
   ],
   "source": [
    "#Determine data type\n",
    "#ask user for the input\n",
    "userinput = input(\"Enter an input: \")\n",
    "print(type(userinput))"
   ]
  },
  {
   "cell_type": "code",
   "execution_count": 14,
   "metadata": {
    "scrolled": true
   },
   "outputs": [
    {
     "name": "stdout",
     "output_type": "stream",
     "text": [
      "Your speed is (km/h) : 50.00 \n"
     ]
    }
   ],
   "source": [
    "#input\n",
    "fDistance=float(input('Input the distance travelled (km) : '))\n",
    "fHours=float(input('Input the hours travelled (hours) : '))\n",
    "#processing\n",
    "fSpeed=fDistance/fHours\n",
    "#output\n",
    "print('Your speed is (km/h) : %.2f ' %fSpeed)"
   ]
  },
  {
   "cell_type": "code",
   "execution_count": null,
   "metadata": {},
   "outputs": [],
   "source": [
    "a=3\n",
    "b=7\n",
    "thepower=a**b\n",
    "print(thepower)"
   ]
  },
  {
   "cell_type": "code",
   "execution_count": null,
   "metadata": {},
   "outputs": [],
   "source": []
  }
 ],
 "metadata": {
  "kernelspec": {
   "display_name": "Python 3 (ipykernel)",
   "language": "python",
   "name": "python3"
  },
  "language_info": {
   "codemirror_mode": {
    "name": "ipython",
    "version": 3
   },
   "file_extension": ".py",
   "mimetype": "text/x-python",
   "name": "python",
   "nbconvert_exporter": "python",
   "pygments_lexer": "ipython3",
   "version": "3.12.0"
  }
 },
 "nbformat": 4,
 "nbformat_minor": 2
}
