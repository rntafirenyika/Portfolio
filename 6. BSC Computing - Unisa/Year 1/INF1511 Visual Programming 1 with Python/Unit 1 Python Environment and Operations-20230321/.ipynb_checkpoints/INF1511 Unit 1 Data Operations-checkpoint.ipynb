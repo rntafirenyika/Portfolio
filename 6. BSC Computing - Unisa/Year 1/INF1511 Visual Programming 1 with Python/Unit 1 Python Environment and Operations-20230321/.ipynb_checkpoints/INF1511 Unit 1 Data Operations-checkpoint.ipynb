{
 "cells": [
  {
   "cell_type": "markdown",
   "metadata": {},
   "source": [
    "## 2023 Unit 1 Numbers and number operations\n"
   ]
  },
  {
   "cell_type": "code",
   "execution_count": 1,
   "metadata": {},
   "outputs": [
    {
     "name": "stdout",
     "output_type": "stream",
     "text": [
      "hello world\n"
     ]
    }
   ],
   "source": [
    "print('hello world')\n",
    "#write a program that stores a number in a variable, and then print the number\n",
    "#write a program that adds to numbers that are stored in variables.\n",
    "#write a program that asks for your favourite number and prints result.  \n",
    "#Modify program to add the number to itself and show result.\n",
    "#remember input, process and output"
   ]
  },
  {
   "cell_type": "code",
   "execution_count": 3,
   "metadata": {},
   "outputs": [
    {
     "name": "stdout",
     "output_type": "stream",
     "text": [
      "Numbers: 345 987\n",
      "Total: :1332\n"
     ]
    }
   ],
   "source": [
    "#this code will add two numbers\n",
    "#input\n",
    "num_1=345\n",
    "num_2=987\n",
    "#processing\n",
    "total=num_1+num_2\n",
    "#output\n",
    "print(f'Numbers: {num_1} {num_2}')\n",
    "print(f'Total: :{total}')"
   ]
  },
  {
   "cell_type": "markdown",
   "metadata": {},
   "source": [
    "## Problem: Add two numbers and show the result"
   ]
  },
  {
   "cell_type": "code",
   "execution_count": 4,
   "metadata": {},
   "outputs": [
    {
     "name": "stdout",
     "output_type": "stream",
     "text": [
      "Total : 12454.320000000002\n"
     ]
    }
   ],
   "source": [
    "#adding a comment would help\n",
    "#input\n",
    "my_tax=12354.45\n",
    "your_tax=99.87\n",
    "#processing\n",
    "total=my_tax+your_tax\n",
    "#output\n",
    "print('Total :', total)"
   ]
  },
  {
   "cell_type": "markdown",
   "metadata": {},
   "source": [
    "## Ask for input and show output and add comments (integers and floats)"
   ]
  },
  {
   "cell_type": "code",
   "execution_count": 7,
   "metadata": {},
   "outputs": [
    {
     "name": "stdout",
     "output_type": "stream",
     "text": [
      "Please a first number: 10\n",
      "Please a second number: 20\n",
      "Total : 30\n"
     ]
    }
   ],
   "source": [
    "#this program add the number of masks\n",
    "#input\n",
    "num_1=int(input('Please a first number: '))\n",
    "num_2=int(input('Please a second number: '))\n",
    "#processing\n",
    "total=num_1+num_2\n",
    "#output\n",
    "print('Total :', total)"
   ]
  },
  {
   "cell_type": "markdown",
   "metadata": {},
   "source": [
    "## A problem that is more detailed, with comments, input, process and output"
   ]
  },
  {
   "cell_type": "code",
   "execution_count": 8,
   "metadata": {},
   "outputs": [
    {
     "name": "stdout",
     "output_type": "stream",
     "text": [
      "Please enter the number of learners in Grade 1 : 5\n",
      "Please enter the number of learners in Grade 2 : 14\n",
      "Total learners :  19\n"
     ]
    }
   ],
   "source": [
    "#This is comment\n",
    "num_1=int(input('Please enter the number of learners in Grade 1 : '))\n",
    "num_2=int(input('Please enter the number of learners in Grade 2 : '))\n",
    "#this is the processing\n",
    "total= num_1+num_2\n",
    "#this is the output\n",
    "print('Total learners : ', total)"
   ]
  },
  {
   "cell_type": "markdown",
   "metadata": {},
   "source": [
    "## Changing from adding to other operations (meaningful names)"
   ]
  },
  {
   "cell_type": "code",
   "execution_count": 9,
   "metadata": {},
   "outputs": [
    {
     "name": "stdout",
     "output_type": "stream",
     "text": [
      "Please enter the number of pencils issued to the school : 200\n",
      "Please enter the number of learners in the school: 30\n",
      "Pencils per learner : 6\n",
      "Remainder : 20\n"
     ]
    }
   ],
   "source": [
    "#How many pencils does each learner receive?\n",
    "#This is the input\n",
    "a=int(input('Please enter the number of pencils issued to the school : '))\n",
    "b=int(input('Please enter the number of learners in the school: '))\n",
    "#this is the processing\n",
    "each=a//b\n",
    "remain=a%b\n",
    "#this is the output\n",
    "print('Pencils per learner :', each)\n",
    "print('Remainder :', remain)"
   ]
  },
  {
   "cell_type": "markdown",
   "metadata": {},
   "source": [
    "## Changing multiple. Change the data type?"
   ]
  },
  {
   "cell_type": "code",
   "execution_count": 10,
   "metadata": {},
   "outputs": [
    {
     "name": "stdout",
     "output_type": "stream",
     "text": [
      "Please enter the length of the rectangle: 10\n",
      "Please enter the breadth of the rectangle: 15.5\n",
      "The area in square meters is: 155.0\n"
     ]
    }
   ],
   "source": [
    "#calculate the area of a rectangle\n",
    "#input\n",
    "length=int(input('Please enter the length of the rectangle: '))\n",
    "breadth=float(input('Please enter the breadth of the rectangle: '))\n",
    "#process\n",
    "area=length*breadth\n",
    "#output\n",
    "print('The area in square meters is:', area)"
   ]
  },
  {
   "cell_type": "code",
   "execution_count": 11,
   "metadata": {},
   "outputs": [
    {
     "name": "stdout",
     "output_type": "stream",
     "text": [
      "Please enter the base length (m): 14\n",
      "Please enter the height (m): 5\n",
      "Area is (in square meters) :  35.0\n"
     ]
    }
   ],
   "source": [
    "#calcuate the area of a triangle.\n",
    "#ask the user for input values\n",
    "base=int(input('Please enter the base length (m): '))\n",
    "height=int(input('Please enter the height (m): '))\n",
    "area=0.5*base*height\n",
    "print('Area is (in square meters) : ', area)"
   ]
  },
  {
   "cell_type": "markdown",
   "metadata": {},
   "source": [
    "## Add the marks that you received for 4 assignments, and calcuate the average value\n"
   ]
  },
  {
   "cell_type": "code",
   "execution_count": 12,
   "metadata": {},
   "outputs": [
    {
     "name": "stdout",
     "output_type": "stream",
     "text": [
      "Marks for assignment 1: 74\n",
      "Marks for assignment 2: 66\n",
      "Marks for assignment 3: 79\n",
      "Marks for assignment 4: 58\n",
      "Your average is 69.25\n"
     ]
    }
   ],
   "source": [
    "#calculate the average marks from 4 assignments\n",
    "#ask user for the assignment marks\n",
    "assignment1 = int(input(\"Marks for assignment 1: \"))\n",
    "assignment2 = int(input(\"Marks for assignment 2: \"))\n",
    "assignment3 = int(input(\"Marks for assignment 3: \"))\n",
    "assignment4 = int(input(\"Marks for assignment 4: \"))\n",
    "#calculate averages\n",
    "av = (assignment1+assignment2+assignment3+assignment4) / 4.0\n",
    "print(f\"Your average is {av}\")"
   ]
  },
  {
   "cell_type": "markdown",
   "metadata": {},
   "source": [
    "## Using a number to a power"
   ]
  },
  {
   "cell_type": "code",
   "execution_count": 20,
   "metadata": {},
   "outputs": [
    {
     "name": "stdout",
     "output_type": "stream",
     "text": [
      "81\n"
     ]
    }
   ],
   "source": [
    "a=2\n",
    "b=5\n",
    "thepower=a**b\n",
    "print(thepower)"
   ]
  },
  {
   "cell_type": "markdown",
   "metadata": {},
   "source": [
    "## Use the radius of a wheel to calcuate the circumference of the wheel\n"
   ]
  },
  {
   "cell_type": "code",
   "execution_count": 24,
   "metadata": {},
   "outputs": [
    {
     "name": "stdout",
     "output_type": "stream",
     "text": [
      "Radius of wheel: 15\n",
      "The circumference is 706.86\n"
     ]
    }
   ],
   "source": [
    "#calculate the circumference of a circle/wheel\n",
    "#ask user for the radius\n",
    "radius = float(input(\"Radius of wheel: \"))\n",
    "circum = 3.141592653589793 * radius**2\n",
    "print(f\"The circumference is {circum:.2f}\")\n"
   ]
  },
  {
   "cell_type": "markdown",
   "metadata": {},
   "source": [
    "## Calculate the speed. Ask for user input in km and hours.  Format the output in km/h to two decimal values."
   ]
  },
  {
   "cell_type": "code",
   "execution_count": 26,
   "metadata": {},
   "outputs": [
    {
     "name": "stdout",
     "output_type": "stream",
     "text": [
      "Kilometers: 100\n",
      "Hours: 2\n",
      "The speed is 50.0km/h\n"
     ]
    }
   ],
   "source": [
    "#calculate the speed given km and hours\n",
    "#ask user for the inputs\n",
    "km = float(input(\"Kilometers: \"))\n",
    "hours = float(input(\"Hours: \"))\n",
    "speed = km / hours\n",
    "print(f\"The speed is {speed}km/h\")\n"
   ]
  },
  {
   "cell_type": "markdown",
   "metadata": {},
   "source": [
    "## Determine the data type of a variable. Ask for user input for integer, float and string."
   ]
  },
  {
   "cell_type": "code",
   "execution_count": 27,
   "metadata": {},
   "outputs": [
    {
     "name": "stdout",
     "output_type": "stream",
     "text": [
      "<class 'int'>\n"
     ]
    }
   ],
   "source": [
    "a=21\n",
    "print(type(a))"
   ]
  },
  {
   "cell_type": "code",
   "execution_count": 30,
   "metadata": {},
   "outputs": [
    {
     "name": "stdout",
     "output_type": "stream",
     "text": [
      "Enter an input: 10.23\n",
      "<class 'str'>\n"
     ]
    }
   ],
   "source": [
    "#Determine data type\n",
    "#ask user for the input\n",
    "userinput = input(\"Enter an input: \")\n",
    "print(type(userinput))"
   ]
  },
  {
   "cell_type": "code",
   "execution_count": null,
   "metadata": {},
   "outputs": [],
   "source": []
  }
 ],
 "metadata": {
  "kernelspec": {
   "display_name": "Python 3 (ipykernel)",
   "language": "python",
   "name": "python3"
  },
  "language_info": {
   "codemirror_mode": {
    "name": "ipython",
    "version": 3
   },
   "file_extension": ".py",
   "mimetype": "text/x-python",
   "name": "python",
   "nbconvert_exporter": "python",
   "pygments_lexer": "ipython3",
   "version": "3.9.13"
  }
 },
 "nbformat": 4,
 "nbformat_minor": 2
}
