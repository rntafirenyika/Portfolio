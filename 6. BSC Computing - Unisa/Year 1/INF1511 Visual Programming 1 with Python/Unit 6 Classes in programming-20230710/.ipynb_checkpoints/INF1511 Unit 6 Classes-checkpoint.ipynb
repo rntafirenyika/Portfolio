{
 "cells": [
  {
   "cell_type": "code",
   "execution_count": null,
   "metadata": {},
   "outputs": [],
   "source": [
    "#Object Orientation ... classes \n",
    "#Class body\n",
    "#data - variables - data members\n",
    "#operations - methods - member functions\n",
    "#create instances (use instances) objects\n",
    "\n",
    "# the secret of NOT (name order type!!!!!!)"
   ]
  },
  {
   "cell_type": "code",
   "execution_count": 5,
   "metadata": {},
   "outputs": [
    {
     "name": "stdout",
     "output_type": "stream",
     "text": [
      "Pink is a bird that is sitting\n"
     ]
    }
   ],
   "source": [
    "class Bird():\n",
    "    #this is the class body\n",
    "    def __init__(self, name, age, breed):\n",
    "        self.name=name\n",
    "        self.age=int(age)\n",
    "        self.breed=breed\n",
    "    def birdsit(self):\n",
    "        print(self.name + ' is a bird that is sitting')\n",
    "    def birdfly(self):\n",
    "        print(self.name + ' is a bird that is flying')\n",
    "    def birdage(self):\n",
    "        print(str(self.age) + ' is a bird age')\n",
    "    def birddata(self):\n",
    "        print(str(self.name) + ' is a '+str(self.breed))\n",
    "\n",
    "#modify this to use user input.\n",
    "myBird=Bird('Pink', 4, 'Doves')\n",
    "myBird.birdsit()"
   ]
  },
  {
   "cell_type": "code",
   "execution_count": 6,
   "metadata": {},
   "outputs": [
    {
     "name": "stdout",
     "output_type": "stream",
     "text": [
      "9\n",
      "4\n"
     ]
    }
   ],
   "source": [
    "#define the class object\n",
    "class triangle:\n",
    "    #an attribute of the class\n",
    "    base=9\n",
    "    height=4\n",
    "    \n",
    "print(triangle.base)\n",
    "print(triangle.height)"
   ]
  },
  {
   "cell_type": "code",
   "execution_count": 7,
   "metadata": {},
   "outputs": [
    {
     "name": "stdout",
     "output_type": "stream",
     "text": [
      "9\n",
      "4\n",
      "class name is  triangle\n"
     ]
    }
   ],
   "source": [
    "#define the class object and use the built in functions\n",
    "class triangle:\n",
    "    #an attribute of the class\n",
    "    base=9\n",
    "    height=4\n",
    "print(triangle.base)\n",
    "print(triangle.height)\n",
    "print('class name is ', triangle.__name__)"
   ]
  },
  {
   "cell_type": "code",
   "execution_count": 8,
   "metadata": {},
   "outputs": [
    {
     "name": "stdout",
     "output_type": "stream",
     "text": [
      "9\n",
      "4\n"
     ]
    },
    {
     "data": {
      "text/plain": [
       "18.0"
      ]
     },
     "execution_count": 8,
     "metadata": {},
     "output_type": "execute_result"
    }
   ],
   "source": [
    "#define the class object\n",
    "#the function defined in a class is called a method\n",
    "#data members: NB difference between class and instance variables .... test\n",
    "class triangle:\n",
    "    #an attribute of the class\n",
    "    base=9\n",
    "    height=4\n",
    "    def calc(self):\n",
    "        area=0.5*triangle.base*triangle.height\n",
    "        return (area)\n",
    "    \n",
    "#create an instance\n",
    "myTri=triangle()\n",
    "print(myTri.base)\n",
    "print(myTri.height)\n",
    "#Python add self automatically!\n",
    "myTri.calc()"
   ]
  },
  {
   "cell_type": "code",
   "execution_count": 9,
   "metadata": {},
   "outputs": [
    {
     "name": "stdout",
     "output_type": "stream",
     "text": [
      "9\n",
      "4\n"
     ]
    },
    {
     "data": {
      "text/plain": [
       "18.0"
      ]
     },
     "execution_count": 9,
     "metadata": {},
     "output_type": "execute_result"
    }
   ],
   "source": [
    "#define the class object introducing the initialization ...\n",
    "#the function defined in a class is called a method\n",
    "#data members: NB difference between class and instance variables .... test\n",
    "class triangle:\n",
    "    def __init__(self):\n",
    "        self.base=9\n",
    "        self.height=4\n",
    "    def calc(self):\n",
    "        area=0.5*self.base*self.height\n",
    "        return (area)\n",
    "    \n",
    "#create an instance\n",
    "myTri=triangle()\n",
    "print(myTri.base)\n",
    "print(myTri.height)\n",
    "#Python add self automatically!\n",
    "myTri.calc()"
   ]
  },
  {
   "cell_type": "code",
   "execution_count": 10,
   "metadata": {},
   "outputs": [
    {
     "name": "stdout",
     "output_type": "stream",
     "text": [
      "12\n",
      "5\n"
     ]
    },
    {
     "data": {
      "text/plain": [
       "30.0"
      ]
     },
     "execution_count": 10,
     "metadata": {},
     "output_type": "execute_result"
    }
   ],
   "source": [
    "#define the class object introducing the initialization ...\n",
    "#the function defined in a class is called a method\n",
    "#data members: NB difference between class and instance variables .... test\n",
    "class triangle:\n",
    "    def __init__(self, x, y):\n",
    "        self.base=x\n",
    "        self.height=y\n",
    "    def calc(self):\n",
    "        area=0.5*self.base*self.height\n",
    "        return (area)\n",
    "    \n",
    "#create an instance\n",
    "\n",
    "myTri=triangle(12,5)\n",
    "print(myTri.base)\n",
    "print(myTri.height)\n",
    "#Python add self automatically!\n",
    "myTri.calc()"
   ]
  },
  {
   "cell_type": "code",
   "execution_count": 15,
   "metadata": {},
   "outputs": [
    {
     "name": "stdout",
     "output_type": "stream",
     "text": [
      "Please enter the base length : 10\n",
      "Please enter the height : 5\n",
      "10\n",
      "5\n",
      "Base is 10 and the Height is 5\n"
     ]
    }
   ],
   "source": [
    "#define the class object introducing the initialization ...\n",
    "#the function defined in a class is called a method\n",
    "#data members: NB difference between class and instance variables .... test\n",
    "class triangle:\n",
    "    def __init__(self, x, y):\n",
    "        self.base=x\n",
    "        self.height=y\n",
    "    def calc(self):\n",
    "        area=0.5*self.base*self.height\n",
    "        return (area)\n",
    "    def __str__(self):\n",
    "        return f'Base is {self.base} and the Height is {self.height}'\n",
    "    \n",
    "#create an instance\n",
    "myBase=int(input('Please enter the base length : '))\n",
    "myHeight=int(input('Please enter the height : '))\n",
    "myTri=triangle(myBase, myHeight)\n",
    "print(myTri.base)\n",
    "print(myTri.height)\n",
    "#Python add self automatically!\n",
    "myTri.calc()\n",
    "print(myTri)"
   ]
  },
  {
   "cell_type": "code",
   "execution_count": 16,
   "metadata": {},
   "outputs": [
    {
     "name": "stdout",
     "output_type": "stream",
     "text": [
      "Please enter the base length : 10\n",
      "Please enter the height : 5\n",
      "10\n",
      "5\n"
     ]
    },
    {
     "data": {
      "text/plain": [
       "25.0"
      ]
     },
     "execution_count": 16,
     "metadata": {},
     "output_type": "execute_result"
    }
   ],
   "source": [
    "#define the class object introducing the initialization ...\n",
    "#the function defined in a class is called a method\n",
    "#data members: NB difference between class and instance variables .... test\n",
    "#difference class method vs static method (has no cls parameter!!)\n",
    "class triangle:\n",
    "    #setting default values\n",
    "    def __init__(self, x=10, y=10):\n",
    "        self.base=x\n",
    "        self.height=y\n",
    "    ##using a str    \n",
    "    #def __str__\n",
    "    #    return\n",
    "    def calc(self):\n",
    "        area=0.5*self.base*self.height\n",
    "        return (area)\n",
    "    \n",
    "#create an instance\n",
    "myBase=int(input('Please enter the base length : '))\n",
    "myHeight=int(input('Please enter the height : '))\n",
    "myTri=triangle(myBase, myHeight)\n",
    "print(myTri.base)\n",
    "print(myTri.height)\n",
    "#Python add self automatically!\n",
    "myTri.calc()"
   ]
  },
  {
   "cell_type": "code",
   "execution_count": null,
   "metadata": {},
   "outputs": [],
   "source": [
    "#implementation of garbage collection .....\n",
    "#work thorugh an example to show how garbage collection frees the memory"
   ]
  },
  {
   "cell_type": "code",
   "execution_count": null,
   "metadata": {},
   "outputs": [],
   "source": [
    "#inheritance\n",
    "#can inherit from an existing class base class or super-class\n",
    "#if you are inheriting, then a derived class or sub-class"
   ]
  },
  {
   "cell_type": "code",
   "execution_count": 17,
   "metadata": {},
   "outputs": [
    {
     "name": "stdout",
     "output_type": "stream",
     "text": [
      "Please enter the base length : 10\n",
      "Please enter the height : 5\n",
      "10\n",
      "5\n"
     ]
    },
    {
     "data": {
      "text/plain": [
       "25.0"
      ]
     },
     "execution_count": 17,
     "metadata": {},
     "output_type": "execute_result"
    }
   ],
   "source": [
    "#specifying the access control\n",
    "#public member can be accessed from inside AND outside\n",
    "class triangle:\n",
    "    #setting default values\n",
    "    def __init__(self, x=10, y=10):\n",
    "        self.base=x\n",
    "        self.height=y\n",
    "    ##using a str    \n",
    "    #def __str__\n",
    "    #    return\n",
    "    def calc(self):\n",
    "        area=0.5*self.base*self.height\n",
    "        return (area)\n",
    "#create an instance\n",
    "myBase=int(input('Please enter the base length : '))\n",
    "myHeight=int(input('Please enter the height : '))\n",
    "myTri=triangle(myBase, myHeight)\n",
    "print(myTri.base)\n",
    "print(myTri.height)\n",
    "#Python add self automatically!\n",
    "myTri.calc()\n",
    "    \n"
   ]
  },
  {
   "cell_type": "code",
   "execution_count": 7,
   "metadata": {},
   "outputs": [
    {
     "name": "stdout",
     "output_type": "stream",
     "text": [
      "Please enter the base length : 10\n",
      "Please enter the height : 5\n",
      "10\n",
      "5\n"
     ]
    },
    {
     "data": {
      "text/plain": [
       "50.0"
      ]
     },
     "execution_count": 7,
     "metadata": {},
     "output_type": "execute_result"
    }
   ],
   "source": [
    "#private member can be accessed from inside ONLY\n",
    "class triangle:\n",
    "    #setting default values\n",
    "    def __init__(self, x=10, y=10):\n",
    "        self.__base=x\n",
    "        self.__height=y\n",
    "    ##using a str    \n",
    "    #def __str__\n",
    "    #    return\n",
    "    def calc(self):\n",
    "        area=0.5*self.__base*self.__height\n",
    "        return (area)\n",
    "#create an instance\n",
    "myBase=int(input('Please enter the base length : '))\n",
    "myHeight=int(input('Please enter the height : '))\n",
    "myTri=triangle(myBase, myHeight)\n",
    "print(myTri._triangle__base)\n",
    "print(myTri._triangle__height)\n",
    "myTri._triangle__height = 10\n",
    "#Python add self automatically!\n",
    "myTri.calc()\n"
   ]
  },
  {
   "cell_type": "code",
   "execution_count": 20,
   "metadata": {},
   "outputs": [
    {
     "ename": "SyntaxError",
     "evalue": "invalid syntax (2649473828.py, line 2)",
     "output_type": "error",
     "traceback": [
      "\u001b[1;36m  File \u001b[1;32m\"C:\\Users\\Tafirenyikas\\AppData\\Local\\Temp\\ipykernel_15052\\2649473828.py\"\u001b[1;36m, line \u001b[1;32m2\u001b[0m\n\u001b[1;33m    class Bird()\u001b[0m\n\u001b[1;37m                ^\u001b[0m\n\u001b[1;31mSyntaxError\u001b[0m\u001b[1;31m:\u001b[0m invalid syntax\n"
     ]
    }
   ],
   "source": [
    "#create a bird class\n",
    "class Bird()"
   ]
  },
  {
   "cell_type": "code",
   "execution_count": null,
   "metadata": {},
   "outputs": [],
   "source": [
    "#allow the bird class to store the name of the bird and the age of the bird, include the init methods\n",
    "#include two methods, the bird can sit or the bird can fly\n",
    "class Bird():\n",
    "\n",
    "    def __init__(self, name, age):\n",
    "        self.name = name\n",
    "        self.age=age\n",
    "    def birdsit(self):\n",
    "        print(self.name + ' is a bird that is sitting')\n",
    "    def birdfly(self):\n",
    "        print(self.name + ' is a bird that is flying')\n",
    "    def birdwalk(self)    \n",
    "        print(self.name + ' is a bird that is walking')\n",
    "        \n",
    "#create the instance of the class        \n",
    "myBird=Bird('Blue',4)\n",
    "print(myBird.name)\n",
    "myBird.birdsit()\n",
    "myBird.birdfly()\n",
    "myBird.birdwalk()\n",
    "        "
   ]
  },
  {
   "cell_type": "code",
   "execution_count": null,
   "metadata": {},
   "outputs": [],
   "source": [
    "#use the code and create three different instances of Bird()\n",
    "class Bird():\n",
    "\n",
    "    def __init__(self, name, age):\n",
    "        self.name = name\n",
    "        self.age=age\n",
    "    def birdsit(self):\n",
    "        print(self.name + ' is a bird that is sitting')\n",
    "    def birdfly(self):\n",
    "        print(self.name + ' is a bird that is flying')\n",
    "        \n",
    "#modify this to use user input.\n",
    "myBird=Bird('Blue',4)\n",
    "print(myBird.name)\n",
    "myBird.birdsit()\n",
    "myBird.birdfly()"
   ]
  },
  {
   "cell_type": "code",
   "execution_count": 8,
   "metadata": {},
   "outputs": [
    {
     "name": "stdout",
     "output_type": "stream",
     "text": [
      "Please enter the base length : 10\n",
      "Please enter the height : 5\n"
     ]
    },
    {
     "data": {
      "text/plain": [
       "25.0"
      ]
     },
     "execution_count": 8,
     "metadata": {},
     "output_type": "execute_result"
    }
   ],
   "source": [
    "#add the bird type to the attributes of bird\n",
    "class Triangle:\n",
    "    def __init__(self, x, y):\n",
    "        self.base=x\n",
    "        self.height=y\n",
    "    def calc(self):\n",
    "        area=0.5*self.base*self.height\n",
    "        return (area)\n",
    "\n",
    "myBase=int(input('Please enter the base length : '))\n",
    "myHeight=int(input('Please enter the height : '))\n",
    "myTri = Triangle(myBase, myHeight)\n",
    "myTri.calc()\n"
   ]
  },
  {
   "cell_type": "code",
   "execution_count": 9,
   "metadata": {},
   "outputs": [
    {
     "name": "stdout",
     "output_type": "stream",
     "text": [
      "18.0\n"
     ]
    }
   ],
   "source": [
    "#add the method walk to the class\n",
    "#define the class object\n",
    "class Triangle:\n",
    "    base=9\n",
    "    height=4\n",
    "    area=0.5*base*height\n",
    "\n",
    "#print(Triangle.base)\n",
    "#print(Triangle.height)\n",
    "print(Triangle.area)"
   ]
  },
  {
   "cell_type": "code",
   "execution_count": null,
   "metadata": {},
   "outputs": [],
   "source": [
    "#create a class Book() and include title , author and publisher. \n",
    "#Include the methods eBooAvailable and NoStock with a relevant message.  Suggest two other methods for the class Book()"
   ]
  },
  {
   "cell_type": "code",
   "execution_count": null,
   "metadata": {},
   "outputs": [],
   "source": [
    "#create a class Student() Suggest two attributes and tw                                                                   \n",
    "b n                                                                    o methods for the class student()"
   ]
  },
  {
   "cell_type": "code",
   "execution_count": 11,
   "metadata": {},
   "outputs": [
    {
     "data": {
      "text/plain": [
       "18.0"
      ]
     },
     "execution_count": 11,
     "metadata": {},
     "output_type": "execute_result"
    }
   ],
   "source": [
    "class Triangle:\n",
    "    #an attribute of the class\n",
    "    base=9\n",
    "    height=4\n",
    "    def calcArea(self):\n",
    "        area=0.5*Triangle.base*Triangle.height\n",
    "        return (area)\n",
    "\n",
    "myTri=Triangle()\n",
    "#print(myTri.base)\n",
    "#print(myTri.height)\n",
    "myTri.calcArea()"
   ]
  },
  {
   "cell_type": "code",
   "execution_count": 12,
   "metadata": {},
   "outputs": [],
   "source": [
    "class Triangle:\n",
    "    #an attribute of the class\n",
    "    base=9\n",
    "    height=4\n",
    "    def calcArea(self):\n",
    "        area=0.5*Triangle.base*Triangle.height\n",
    "        return (area)\n",
    "\n",
    "myTri=Triangle()"
   ]
  },
  {
   "cell_type": "code",
   "execution_count": 14,
   "metadata": {},
   "outputs": [
    {
     "name": "stdout",
     "output_type": "stream",
     "text": [
      "<__main__.Triangle object at 0x00000140FB246DC0>\n"
     ]
    }
   ],
   "source": [
    "print(str(myTri))"
   ]
  },
  {
   "cell_type": "code",
   "execution_count": 15,
   "metadata": {},
   "outputs": [
    {
     "name": "stdout",
     "output_type": "stream",
     "text": [
      "9\n",
      "4\n",
      "Name is Triangle\n"
     ]
    }
   ],
   "source": [
    "class Triangle:\n",
    "    #an attribute of the class\n",
    "    base=9\n",
    "    height=4\n",
    "\n",
    "print(Triangle.base)\n",
    "print(Triangle.height)\n",
    "print('Name is', Triangle.__name__)"
   ]
  },
  {
   "cell_type": "code",
   "execution_count": 17,
   "metadata": {},
   "outputs": [
    {
     "name": "stdout",
     "output_type": "stream",
     "text": [
      "Please enter the base length : 12\n",
      "Please enter the height : 12\n"
     ]
    },
    {
     "ename": "AttributeError",
     "evalue": "'triangle' object has no attribute 'base'",
     "output_type": "error",
     "traceback": [
      "\u001b[1;31m---------------------------------------------------------------------------\u001b[0m",
      "\u001b[1;31mAttributeError\u001b[0m                            Traceback (most recent call last)",
      "\u001b[1;32m~\\AppData\\Local\\Temp\\ipykernel_12556\\1651008363.py\u001b[0m in \u001b[0;36m<module>\u001b[1;34m\u001b[0m\n\u001b[0;32m     23\u001b[0m \u001b[0mmyTri\u001b[0m\u001b[1;33m=\u001b[0m\u001b[0mtriangle\u001b[0m\u001b[1;33m(\u001b[0m\u001b[0mmyBase\u001b[0m\u001b[1;33m,\u001b[0m \u001b[0mmyHeight\u001b[0m\u001b[1;33m)\u001b[0m\u001b[1;33m\u001b[0m\u001b[1;33m\u001b[0m\u001b[0m\n\u001b[0;32m     24\u001b[0m \u001b[1;33m\u001b[0m\u001b[0m\n\u001b[1;32m---> 25\u001b[1;33m \u001b[0mprint\u001b[0m\u001b[1;33m(\u001b[0m\u001b[0mmyTri\u001b[0m\u001b[1;33m.\u001b[0m\u001b[0mbase\u001b[0m\u001b[1;33m)\u001b[0m\u001b[1;33m\u001b[0m\u001b[1;33m\u001b[0m\u001b[0m\n\u001b[0m\u001b[0;32m     26\u001b[0m \u001b[1;33m\u001b[0m\u001b[0m\n\u001b[0;32m     27\u001b[0m \u001b[0mprint\u001b[0m\u001b[1;33m(\u001b[0m\u001b[0mmyTri\u001b[0m\u001b[1;33m.\u001b[0m\u001b[0mheight\u001b[0m\u001b[1;33m)\u001b[0m\u001b[1;33m\u001b[0m\u001b[1;33m\u001b[0m\u001b[0m\n",
      "\u001b[1;31mAttributeError\u001b[0m: 'triangle' object has no attribute 'base'"
     ]
    }
   ],
   "source": [
    "class triangle:\n",
    "\n",
    " #setting default values\n",
    "\n",
    "  def __init__(self, x=10, y=10):\n",
    "\n",
    "        self.__base=x\n",
    "\n",
    "        self.__height=y\n",
    "\n",
    "  def calc(self):\n",
    "\n",
    "        area=0.5*self.base*self.height\n",
    "\n",
    "        return (area)\n",
    "\n",
    "#create an instance\n",
    "\n",
    "myBase=int(input('Please enter the base length : '))\n",
    "\n",
    "myHeight=int(input('Please enter the height : '))\n",
    "\n",
    "myTri=triangle(myBase, myHeight)\n",
    "\n",
    "print(myTri.base)\n",
    "\n",
    "print(myTri.height)\n",
    "\n",
    "myTri.calc()"
   ]
  },
  {
   "cell_type": "code",
   "execution_count": 18,
   "metadata": {},
   "outputs": [
    {
     "ename": "TypeError",
     "evalue": "__init__() missing 1 required positional argument: 'breed'",
     "output_type": "error",
     "traceback": [
      "\u001b[1;31m---------------------------------------------------------------------------\u001b[0m",
      "\u001b[1;31mTypeError\u001b[0m                                 Traceback (most recent call last)",
      "\u001b[1;32m~\\AppData\\Local\\Temp\\ipykernel_12556\\1998180640.py\u001b[0m in \u001b[0;36m<module>\u001b[1;34m\u001b[0m\n\u001b[0;32m     15\u001b[0m \u001b[1;33m\u001b[0m\u001b[0m\n\u001b[0;32m     16\u001b[0m \u001b[1;31m#modify this to use user input.\u001b[0m\u001b[1;33m\u001b[0m\u001b[1;33m\u001b[0m\u001b[0m\n\u001b[1;32m---> 17\u001b[1;33m \u001b[0mmyBird\u001b[0m\u001b[1;33m=\u001b[0m\u001b[0mBird\u001b[0m\u001b[1;33m(\u001b[0m\u001b[1;34m'Pink'\u001b[0m\u001b[1;33m,\u001b[0m\u001b[1;36m4\u001b[0m\u001b[1;33m)\u001b[0m\u001b[1;33m\u001b[0m\u001b[1;33m\u001b[0m\u001b[0m\n\u001b[0m\u001b[0;32m     18\u001b[0m \u001b[0mmyBird\u001b[0m\u001b[1;33m.\u001b[0m\u001b[0mbirdsit\u001b[0m\u001b[1;33m(\u001b[0m\u001b[1;33m)\u001b[0m\u001b[1;33m\u001b[0m\u001b[1;33m\u001b[0m\u001b[0m\n",
      "\u001b[1;31mTypeError\u001b[0m: __init__() missing 1 required positional argument: 'breed'"
     ]
    }
   ],
   "source": [
    "class Bird():\n",
    "    #this is the class body\n",
    "    def __init__(self, name, age, breed):\n",
    "        self.name=name\n",
    "        self.age=age\n",
    "        self.breed=breed\n",
    "    def birdsit(self):\n",
    "        print(self.name + ' is a bird that is sitting')\n",
    "    def birdfly(self):\n",
    "        print(self.name + ' is a bird that is flying')\n",
    "    def birdage(self):\n",
    "        print(str(self.age) + ' is a bird age')\n",
    "    def birddata(self):\n",
    "        print(str(self.name) + ' is a '+str(self.breed))\n",
    "\n",
    "#modify this to use user input.\n",
    "myBird=Bird('Pink',4)\n",
    "myBird.birdsit()"
   ]
  },
  {
   "cell_type": "code",
   "execution_count": 19,
   "metadata": {},
   "outputs": [
    {
     "name": "stdout",
     "output_type": "stream",
     "text": [
      "9\n",
      "4\n",
      "Name is Triangle\n"
     ]
    }
   ],
   "source": [
    "class Triangle:\n",
    "    #an attribute of the class\n",
    "    base=9\n",
    "    height=4\n",
    "\n",
    "print(Triangle.base)\n",
    "print(Triangle.height)\n",
    "print('Name is', Triangle.__name__)"
   ]
  },
  {
   "cell_type": "code",
   "execution_count": 20,
   "metadata": {},
   "outputs": [
    {
     "name": "stdout",
     "output_type": "stream",
     "text": [
      "Please enter the base length : 12\n",
      "Please enter the height : 12\n",
      "12\n",
      "12\n"
     ]
    },
    {
     "data": {
      "text/plain": [
       "72.0"
      ]
     },
     "execution_count": 20,
     "metadata": {},
     "output_type": "execute_result"
    }
   ],
   "source": [
    "class triangle:\n",
    "    #setting default values\n",
    "    def __init__(self, x=10, y=10):\n",
    "        self.base=x\n",
    "        self.height=y\n",
    "    ##using a str\n",
    "       #def __str__ \n",
    "   #    return\n",
    "    def calc(self):\n",
    "        area=0.5*self.base*self.height\n",
    "        return (area)\n",
    "#create an instance\n",
    "myBase=int(input('Please enter the base length : '))\n",
    "myHeight=int(input('Please enter the height : '))\n",
    "myTri=triangle(myBase, myHeight)\n",
    "print(myTri.base)\n",
    "print(myTri.height)\n",
    "myTri.calc()"
   ]
  },
  {
   "cell_type": "code",
   "execution_count": 21,
   "metadata": {},
   "outputs": [
    {
     "data": {
      "text/plain": [
       "30.0"
      ]
     },
     "execution_count": 21,
     "metadata": {},
     "output_type": "execute_result"
    }
   ],
   "source": [
    "class Triangle:\n",
    "    def __init__(self, x, y):\n",
    "        self.base=x\n",
    "        self.height=y\n",
    "    def calc(self):\n",
    "        area=0.5*self.base*self.height\n",
    "        return (area)\n",
    "    \n",
    "myTri=Triangle(10,6)\n",
    "myTri.calc()"
   ]
  },
  {
   "cell_type": "code",
   "execution_count": null,
   "metadata": {},
   "outputs": [],
   "source": []
  },
  {
   "cell_type": "code",
   "execution_count": 22,
   "metadata": {},
   "outputs": [
    {
     "name": "stdout",
     "output_type": "stream",
     "text": [
      "Please enter the base length : 10\n",
      "Please enter the height : 10\n"
     ]
    },
    {
     "data": {
      "text/plain": [
       "50.0"
      ]
     },
     "execution_count": 22,
     "metadata": {},
     "output_type": "execute_result"
    }
   ],
   "source": [
    "class triangle:\n",
    "    #setting default values\n",
    "    def __init__(self, x=10, y=10):\n",
    "        self.__base=x\n",
    "        self.__height=y\n",
    "    def calc(self):\n",
    "        area=0.5*self.__base*self.__height\n",
    "        return (area)\n",
    "#create an instance\n",
    "myBase=int(input('Please enter the base length : '))\n",
    "myHeight=int(input('Please enter the height : '))\n",
    "myTri=triangle(myBase, myHeight)\n",
    "#print(myTri.base)\n",
    "#print(myTri.height)\n",
    "myTri.calc()"
   ]
  },
  {
   "cell_type": "code",
   "execution_count": 23,
   "metadata": {},
   "outputs": [
    {
     "ename": "TypeError",
     "evalue": "__init__() missing 1 required positional argument: 'breed'",
     "output_type": "error",
     "traceback": [
      "\u001b[1;31m---------------------------------------------------------------------------\u001b[0m",
      "\u001b[1;31mTypeError\u001b[0m                                 Traceback (most recent call last)",
      "\u001b[1;32m~\\AppData\\Local\\Temp\\ipykernel_12556\\1998180640.py\u001b[0m in \u001b[0;36m<module>\u001b[1;34m\u001b[0m\n\u001b[0;32m     15\u001b[0m \u001b[1;33m\u001b[0m\u001b[0m\n\u001b[0;32m     16\u001b[0m \u001b[1;31m#modify this to use user input.\u001b[0m\u001b[1;33m\u001b[0m\u001b[1;33m\u001b[0m\u001b[0m\n\u001b[1;32m---> 17\u001b[1;33m \u001b[0mmyBird\u001b[0m\u001b[1;33m=\u001b[0m\u001b[0mBird\u001b[0m\u001b[1;33m(\u001b[0m\u001b[1;34m'Pink'\u001b[0m\u001b[1;33m,\u001b[0m\u001b[1;36m4\u001b[0m\u001b[1;33m)\u001b[0m\u001b[1;33m\u001b[0m\u001b[1;33m\u001b[0m\u001b[0m\n\u001b[0m\u001b[0;32m     18\u001b[0m \u001b[0mmyBird\u001b[0m\u001b[1;33m.\u001b[0m\u001b[0mbirdsit\u001b[0m\u001b[1;33m(\u001b[0m\u001b[1;33m)\u001b[0m\u001b[1;33m\u001b[0m\u001b[1;33m\u001b[0m\u001b[0m\n",
      "\u001b[1;31mTypeError\u001b[0m: __init__() missing 1 required positional argument: 'breed'"
     ]
    }
   ],
   "source": [
    "class Bird():\n",
    "    #this is the class body\n",
    "    def __init__(self, name, age, breed):\n",
    "        self.name=name\n",
    "        self.age=age\n",
    "        self.breed=breed\n",
    "    def birdsit(self):\n",
    "        print(self.name + ' is a bird that is sitting')\n",
    "    def birdfly(self):\n",
    "        print(self.name + ' is a bird that is flying')\n",
    "    def birdage(self):\n",
    "        print(str(self.age) + ' is a bird age')\n",
    "    def birddata(self):\n",
    "        print(str(self.name) + ' is a '+str(self.breed))\n",
    "\n",
    "#modify this to use user input.\n",
    "myBird=Bird('Pink',4)\n",
    "myBird.birdsit()"
   ]
  },
  {
   "cell_type": "code",
   "execution_count": 24,
   "metadata": {},
   "outputs": [
    {
     "name": "stdout",
     "output_type": "stream",
     "text": [
      "Pink is a flamingo\n"
     ]
    }
   ],
   "source": [
    "class Bird():\n",
    "    #this is the class body\n",
    "    def __init__(self, name, age, breed):\n",
    "        self.name=name\n",
    "        self.age=age\n",
    "        self.breed=breed\n",
    "    def birdsit(self):\n",
    "        print(self.name + ' is a bird that is sitting')\n",
    "    def birdfly(self):\n",
    "        print(self.name + ' is a bird that is flying')\n",
    "    def birdage(self):\n",
    "        print(str(self.age) + ' is a bird age')\n",
    "    def birddata(self):\n",
    "        print(str(self.name) + ' is a '+str(self.breed)) \n",
    "     #modify this to use user input.\n",
    "\n",
    "myBird=Bird('Pink',4,'flamingo')\n",
    "myBird.birddata()"
   ]
  },
  {
   "cell_type": "code",
   "execution_count": null,
   "metadata": {},
   "outputs": [],
   "source": []
  }
 ],
 "metadata": {
  "kernelspec": {
   "display_name": "Python 3 (ipykernel)",
   "language": "python",
   "name": "python3"
  },
  "language_info": {
   "codemirror_mode": {
    "name": "ipython",
    "version": 3
   },
   "file_extension": ".py",
   "mimetype": "text/x-python",
   "name": "python",
   "nbconvert_exporter": "python",
   "pygments_lexer": "ipython3",
   "version": "3.9.13"
  }
 },
 "nbformat": 4,
 "nbformat_minor": 2
}
