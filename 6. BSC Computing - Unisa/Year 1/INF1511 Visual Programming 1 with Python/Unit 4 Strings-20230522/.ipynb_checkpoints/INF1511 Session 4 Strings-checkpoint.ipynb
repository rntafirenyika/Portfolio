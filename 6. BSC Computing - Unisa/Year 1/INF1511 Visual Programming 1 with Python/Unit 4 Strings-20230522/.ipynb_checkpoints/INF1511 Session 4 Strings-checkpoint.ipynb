{
 "cells": [
  {
   "cell_type": "markdown",
   "metadata": {},
   "source": [
    "# UNIT 4 Strings and String Functions"
   ]
  },
  {
   "cell_type": "code",
   "execution_count": 1,
   "metadata": {},
   "outputs": [
    {
     "name": "stdout",
     "output_type": "stream",
     "text": [
      "The output is :  INF1511 2023\n"
     ]
    }
   ],
   "source": [
    "#string values assigned to variables\n",
    "#the problem is to add two strings\n",
    "#concatenate strings\n",
    "#input\n",
    "sWord1=\"INF1511 \"\n",
    "sWord2= \"2023\"\n",
    "#processing\n",
    "myTotal = sWord1+sWord2\n",
    "#output\n",
    "print('The output is : ',myTotal)"
   ]
  },
  {
   "cell_type": "code",
   "execution_count": null,
   "metadata": {},
   "outputs": [],
   "source": [
    "#Verify what string you input ..."
   ]
  },
  {
   "cell_type": "code",
   "execution_count": 4,
   "metadata": {},
   "outputs": [
    {
     "name": "stdout",
     "output_type": "stream",
     "text": [
      "it is 22 th day of May of the year 2023 \n",
      "2023-05-25 23:04:14.500699\n"
     ]
    }
   ],
   "source": [
    "#this example uses coded string values ... and the output may be formatted\n",
    "from datetime import datetime\n",
    "now = datetime.now()\n",
    "nDay=22\n",
    "nMonth='May'\n",
    "nYear=2023\n",
    "#print('it is', myDay, 'th day of the ', myMonth,  'th month of the year ', myYear)\n",
    "print('it is %d th day of %s of the year %d ' %(nDay, nMonth, nYear))\n",
    "print(f\"{now}\")"
   ]
  },
  {
   "cell_type": "code",
   "execution_count": 6,
   "metadata": {},
   "outputs": [
    {
     "name": "stdout",
     "output_type": "stream",
     "text": [
      "Enter the day: 25\n",
      "Enter the month: May\n"
     ]
    },
    {
     "ename": "ValueError",
     "evalue": "invalid literal for int() with base 10: 'May'",
     "output_type": "error",
     "traceback": [
      "\u001b[1;31m---------------------------------------------------------------------------\u001b[0m",
      "\u001b[1;31mValueError\u001b[0m                                Traceback (most recent call last)",
      "\u001b[1;32m~\\AppData\\Local\\Temp\\ipykernel_216\\358038259.py\u001b[0m in \u001b[0;36m<module>\u001b[1;34m\u001b[0m\n\u001b[0;32m      2\u001b[0m \u001b[1;31m#input\u001b[0m\u001b[1;33m\u001b[0m\u001b[1;33m\u001b[0m\u001b[0m\n\u001b[0;32m      3\u001b[0m \u001b[0mmyDay\u001b[0m\u001b[1;33m=\u001b[0m\u001b[0mint\u001b[0m\u001b[1;33m(\u001b[0m\u001b[0minput\u001b[0m\u001b[1;33m(\u001b[0m\u001b[1;34m'Enter the day: '\u001b[0m\u001b[1;33m)\u001b[0m\u001b[1;33m)\u001b[0m\u001b[1;33m\u001b[0m\u001b[1;33m\u001b[0m\u001b[0m\n\u001b[1;32m----> 4\u001b[1;33m \u001b[0mmyMonth\u001b[0m\u001b[1;33m=\u001b[0m\u001b[0mint\u001b[0m\u001b[1;33m(\u001b[0m\u001b[0minput\u001b[0m\u001b[1;33m(\u001b[0m\u001b[1;34m'Enter the month: '\u001b[0m\u001b[1;33m)\u001b[0m\u001b[1;33m)\u001b[0m\u001b[1;33m\u001b[0m\u001b[1;33m\u001b[0m\u001b[0m\n\u001b[0m\u001b[0;32m      5\u001b[0m \u001b[0mmyYear\u001b[0m\u001b[1;33m=\u001b[0m\u001b[0mint\u001b[0m\u001b[1;33m(\u001b[0m\u001b[0minput\u001b[0m\u001b[1;33m(\u001b[0m\u001b[1;34m'Enter the year: '\u001b[0m\u001b[1;33m)\u001b[0m\u001b[1;33m)\u001b[0m\u001b[1;33m\u001b[0m\u001b[1;33m\u001b[0m\u001b[0m\n\u001b[0;32m      6\u001b[0m \u001b[1;31m#processing\u001b[0m\u001b[1;33m\u001b[0m\u001b[1;33m\u001b[0m\u001b[0m\n",
      "\u001b[1;31mValueError\u001b[0m: invalid literal for int() with base 10: 'May'"
     ]
    }
   ],
   "source": [
    "#this example shows the use of user input string values rather than coded values\n",
    "#input\n",
    "myDay=int(input('Enter the day: '))\n",
    "myMonth=int(input('Enter the month: '))\n",
    "myYear=int(input('Enter the year: '))\n",
    "#processing\n",
    "\n",
    "#output\n",
    "print('it is', myDay, 'th day of the ', myMonth,  'th month of the year ', myYear)\n",
    "print('it is %d th day of the %d th month of the year %d ' %(myDay, myMonth, myYear))"
   ]
  },
  {
   "cell_type": "code",
   "execution_count": 7,
   "metadata": {},
   "outputs": [
    {
     "name": "stdout",
     "output_type": "stream",
     "text": [
      "Enter the name of the day : 25\n",
      "Enter the name of the month: May\n",
      "Enter the year: 2023\n",
      "it is 25  in  May  of the year  2023\n"
     ]
    }
   ],
   "source": [
    "#this example shows the use of user input string values rather than coded values\n",
    "#this is input\n",
    "myDay=(input('Enter the name of the day : '))\n",
    "myMonth=(input('Enter the name of the month: '))\n",
    "myYear=int(input('Enter the year: '))\n",
    "#processing\n",
    "\n",
    "#output\n",
    "print('it is', myDay, ' in ', myMonth,  ' of the year ', myYear)"
   ]
  },
  {
   "cell_type": "code",
   "execution_count": 8,
   "metadata": {},
   "outputs": [
    {
     "name": "stdout",
     "output_type": "stream",
     "text": [
      "Please input a sentence : Hello World\n",
      "Original :  Hello World\n",
      "After toggling the case: hELLO wORLD\n",
      "In uppercase is :  HELLO WORLD\n",
      "In lowercase is :  hello world\n",
      "The length is :  11\n"
     ]
    }
   ],
   "source": [
    "#This program demonstrates the use of strings and functions\n",
    "#s=\"The winter has already stared in GP and NW ... for 2023\" \n",
    "#input\n",
    "s=input('Please input a sentence : ')\n",
    "#processing and output\n",
    "print ('Original : ', s)\n",
    "print('After toggling the case:', s.swapcase()) \n",
    "print('In uppercase is : ', s.upper())\n",
    "print('In lowercase is : ', s.lower()) \n",
    "print('The length is : ', len(s))"
   ]
  },
  {
   "cell_type": "code",
   "execution_count": 9,
   "metadata": {},
   "outputs": [
    {
     "name": "stdout",
     "output_type": "stream",
     "text": [
      "Please input a second string : This is the first\n",
      "I simply love programming in PythonI simply love programming in PythonI simply love programming in Python\n",
      "The combination is  TI simply love programming in PythonhI simply love programming in PythoniI simply love programming in PythonsI simply love programming in Python I simply love programming in PythoniI simply love programming in PythonsI simply love programming in Python I simply love programming in PythontI simply love programming in PythonhI simply love programming in PythoneI simply love programming in Python I simply love programming in PythonfI simply love programming in PythoniI simply love programming in PythonrI simply love programming in PythonsI simply love programming in Pythont\n"
     ]
    }
   ],
   "source": [
    "#This program demonstrates strings and functions\n",
    "s=\"I simply love programming in Python\" \n",
    "#s=input('Please input a first string : ')\n",
    "t=input('Please input a second string : ')\n",
    "\n",
    "print(s*3)\n",
    "print('The combination is ',s.join(t))\n"
   ]
  },
  {
   "cell_type": "code",
   "execution_count": 11,
   "metadata": {},
   "outputs": [
    {
     "name": "stdout",
     "output_type": "stream",
     "text": [
      "Please input a string : today\n",
      "The count is : 1\n"
     ]
    }
   ],
   "source": [
    "#strings and sub-strings\n",
    "s=input('Please input a string : ')\n",
    "#myletter=input('Please input the letter you need to find in the string : ')\n",
    "n=len(s)\n",
    "t=s.count('a', 0, n) + s.count('A', 0, n)\n",
    "print('The count is : %d' %(t))"
   ]
  },
  {
   "cell_type": "code",
   "execution_count": 12,
   "metadata": {
    "scrolled": true
   },
   "outputs": [
    {
     "name": "stdout",
     "output_type": "stream",
     "text": [
      "Enter the province and the country separated by a space : wc sa\n",
      "The location after interchanging province and the country: sa wc\n"
     ]
    }
   ],
   "source": [
    "n=input('Enter the province and the country separated by a space : ') \n",
    "k=n.partition(' ')\n",
    "print('The location after interchanging province and the country:', k[2], k[0]) "
   ]
  },
  {
   "cell_type": "code",
   "execution_count": 14,
   "metadata": {},
   "outputs": [
    {
     "name": "stdout",
     "output_type": "stream",
     "text": [
      "enter the string : Fabolous achievements\n",
      "enter the substring : error\n",
      "the substring error  is not found in string Fabolous achievements\n"
     ]
    }
   ],
   "source": [
    "#determine whether a substring exists in a string\n",
    "#input\n",
    "sString=input('enter the string : ')\n",
    "sSub=input('enter the substring : ')\n",
    "#process and output\n",
    "if (sSub in sString):\n",
    "    print('the substring', sSub,' is found in string', sString)\n",
    "else:\n",
    "    print('the substring', sSub,' is not found in string', sString)"
   ]
  },
  {
   "cell_type": "code",
   "execution_count": 16,
   "metadata": {},
   "outputs": [
    {
     "name": "stdout",
     "output_type": "stream",
     "text": [
      "enter the string : Fabolous achievements\n",
      "enter the substring : achieve\n",
      "the substring achieve  is found in string Fabolous achievements\n"
     ]
    }
   ],
   "source": [
    "#determine whether a substring exists in a string\n",
    "#input\n",
    "sString=input('enter the string : ')\n",
    "sSub=input('enter the substring : ')\n",
    "#process and output\n",
    "rResult=sString.find(sSub)\n",
    "if rResult ==-1:\n",
    "    print('the substring', sSub,' is not found in string', sString)\n",
    "else:\n",
    "    print('the substring', sSub,' is found in string', sString)"
   ]
  },
  {
   "cell_type": "code",
   "execution_count": 18,
   "metadata": {},
   "outputs": [
    {
     "name": "stdout",
     "output_type": "stream",
     "text": [
      "enter the 4 assignment results (%)\n",
      "Enter mark : 45\n",
      "Enter mark : 20\n",
      "Enter mark : 35\n",
      "Enter mark : 40\n",
      "Numbers in the array nAssign [45, 20, 35, 40]\n",
      "45\n",
      "20\n",
      "35\n",
      "40\n"
     ]
    }
   ],
   "source": [
    "#Numerical ARRAYS\n",
    "print('enter the 4 assignment results (%)')\n",
    "#initialize the array\n",
    "nAssign=[0 for i in range(4)]\n",
    "#array input values\n",
    "for iCount in range (4):\n",
    "    nAssign[iCount]=int(input('Enter mark : '))\n",
    "print('Numbers in the array nAssign', nAssign)    \n",
    "for n in nAssign:\n",
    "    print(n)\n"
   ]
  },
  {
   "cell_type": "code",
   "execution_count": 19,
   "metadata": {},
   "outputs": [
    {
     "name": "stdout",
     "output_type": "stream",
     "text": [
      "Jack\n",
      "Mark\n"
     ]
    }
   ],
   "source": [
    "#Lists - collect of elements\n",
    "sNames=['Jack', 'Jill','Mary', 'Mark']\n",
    "print(sNames[0])\n",
    "print(sNames[-1])"
   ]
  },
  {
   "cell_type": "code",
   "execution_count": 21,
   "metadata": {},
   "outputs": [
    {
     "name": "stdout",
     "output_type": "stream",
     "text": [
      "Able\n",
      "Dotty\n",
      "Able\n",
      "Brad\n",
      "Craig\n",
      "Dotty\n"
     ]
    }
   ],
   "source": [
    "#Lists - collect of elements\n",
    "sNames=['Able', 'Brad','Craig', 'Dotty']\n",
    "print(sNames[0])\n",
    "print(sNames[-1])\n",
    "for i in range (0,len(sNames)):\n",
    "    print(sNames[i])"
   ]
  },
  {
   "cell_type": "code",
   "execution_count": 26,
   "metadata": {},
   "outputs": [
    {
     "name": "stdout",
     "output_type": "stream",
     "text": [
      "Please enter the number of the month: 2\n",
      "The month is February\n"
     ]
    }
   ],
   "source": [
    "#create a list of the months in the year\n",
    "#enter a month number and return the name of the month\n",
    "month = ['January', 'February', 'March', 'April', 'May', 'June', 'July', 'August', 'September', 'October', 'Novemeber', 'December']\n",
    "numMon = int(input('Please enter the number of the month: '))\n",
    "print(f'The month is {month[numMon-1]}.')\n"
   ]
  },
  {
   "cell_type": "code",
   "execution_count": null,
   "metadata": {},
   "outputs": [],
   "source": [
    "#create a list of your modules\n",
    "#the user must provide input on the name of the module, output must be confirmation of the module code in your list."
   ]
  },
  {
   "cell_type": "code",
   "execution_count": null,
   "metadata": {},
   "outputs": [],
   "source": [
    "#enter the headlines from the morning newspaper\n",
    "#apply the string functions min max len upper lower title and swapcase to the string\n",
    "#provide output for each function."
   ]
  }
 ],
 "metadata": {
  "kernelspec": {
   "display_name": "Python 3 (ipykernel)",
   "language": "python",
   "name": "python3"
  },
  "language_info": {
   "codemirror_mode": {
    "name": "ipython",
    "version": 3
   },
   "file_extension": ".py",
   "mimetype": "text/x-python",
   "name": "python",
   "nbconvert_exporter": "python",
   "pygments_lexer": "ipython3",
   "version": "3.9.13"
  }
 },
 "nbformat": 4,
 "nbformat_minor": 2
}
